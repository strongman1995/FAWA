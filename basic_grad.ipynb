{
 "cells": [
  {
   "cell_type": "code",
   "execution_count": 76,
   "metadata": {
    "ExecuteTime": {
     "end_time": "2020-07-06T12:21:48.844531Z",
     "start_time": "2020-07-06T12:21:48.837202Z"
    },
    "collapsed": true
   },
   "outputs": [],
   "source": [
    "import os, time, io\n",
    "os.environ[\"CUDA_VISIBLE_DEVICES\"] = '1'"
   ]
  },
  {
   "cell_type": "code",
   "execution_count": 79,
   "metadata": {
    "ExecuteTime": {
     "end_time": "2020-07-06T12:22:59.664060Z",
     "start_time": "2020-07-06T12:22:59.646850Z"
    },
    "collapsed": true
   },
   "outputs": [],
   "source": [
    "def get_argparse():\n",
    "    parser = argparse.ArgumentParser()\n",
    "    parser.add_argument(\"--model_path\",\n",
    "                        help=\"Calamari-OCR model path.\",\n",
    "                        type=str)\n",
    "    parser.add_argument(\"-fn\",\n",
    "                        \"--font_name\",\n",
    "                        help=\"font name.\",\n",
    "                        type=str,\n",
    "                        choices=['Courier',\n",
    "                                 'Georgia',\n",
    "                                 'Helvetica',\n",
    "                                 'Times',\n",
    "                                 'Arial'])\n",
    "    parser.add_argument(\"--case\",\n",
    "                        help=\"case with different targets.\",\n",
    "                        type=str)\n",
    "    parser.add_argument(\"--pert_type\",\n",
    "                        help=\"the bound type of perturbations\",\n",
    "                        type=str,\n",
    "                        choices=['2', 'inf'])\n",
    "    parser.add_argument(\"--eps\",\n",
    "                        help=\"perturbations is clipped by eps\",\n",
    "                        type=float)\n",
    "    parser.add_argument(\"--eps_iter\",\n",
    "                        help=\"coefficient to adjust step size of each iteration\",\n",
    "                        type=float)\n",
    "    parser.add_argument(\"--nb_iter\",\n",
    "                        help=\"number of maximum iteration\",\n",
    "                        type=int)\n",
    "    parser.add_argument(\"--img_data_path\",\n",
    "                        help=\"path of image data\",\n",
    "                        type=str)\n",
    "    parser.add_argument(\"--batch_size\",\n",
    "                        help=\"the number of samples per batch\",\n",
    "                        type=int)\n",
    "    parser.add_argument(\"--clip_min\",\n",
    "                        help=\"the minimum value of images\",\n",
    "                        type=float)\n",
    "    parser.add_argument(\"--clip_max\",\n",
    "                        help=\"the maximum value of images\",\n",
    "                        type=float)\n",
    "    return parser\n"
   ]
  },
  {
   "cell_type": "code",
   "execution_count": 55,
   "metadata": {
    "ExecuteTime": {
     "end_time": "2020-06-23T08:46:51.537991Z",
     "start_time": "2020-06-23T08:46:51.516193Z"
    },
    "collapsed": true
   },
   "outputs": [],
   "source": [
    "import argparse\n",
    "\n",
    "parser = argparse.ArgumentParser()\n",
    "parser.add_argument(\"-ckpt\",\n",
    "                    \"--checkpoint\",\n",
    "                    help=\"Calamari-OCR checkpoint model path.\",\n",
    "                    type=str)\n",
    "parser.add_argument(\"-fn\",\n",
    "                    \"--font_name\",\n",
    "                    help=\"font name.\",\n",
    "                    type=str,\n",
    "                    choices=['Courier', \n",
    "                             'Georgia', \n",
    "                             'Helvetica', \n",
    "                             'Times', \n",
    "                             'Arial'])\n",
    "parser.add_argument(\"--case\",\n",
    "                    help=\"three difficulty case.\",\n",
    "                    type=str,\n",
    "                    choices=['easy', 'random', 'hard'])\n",
    "parser.add_argument(\"--pert_type\",\n",
    "                    help=\"the bound type of perturbations\",\n",
    "                    type=str,\n",
    "                    choices=['2', 'inf'])\n",
    "parser.add_argument(\"--eps\",\n",
    "                    help=\"perturbations is clipped by eps\",\n",
    "                    type=float)\n",
    "parser.add_argument(\"--eps_iter\",\n",
    "                    help=\"coefficient to adjust step size of each iteration\",\n",
    "                    type=float)\n",
    "parser.add_argument(\"--nb_iter\",\n",
    "                    help=\"number of maximum iteration\",\n",
    "                    type=int) \n",
    "args = parser.parse_args(\n",
    "    '--checkpoint /home/chenlu/calamari/models/antiqua_modern/4.ckpt.json \\\n",
    "    --font_name Arial \\\n",
    "    --case easy\\\n",
    "    --pert_type 2\\\n",
    "    --eps 0.2\\\n",
    "    --eps_iter 5\\\n",
    "    --nb_iter 1000'\n",
    "    .split())"
   ]
  },
  {
   "cell_type": "code",
   "execution_count": 91,
   "metadata": {
    "ExecuteTime": {
     "end_time": "2020-07-06T12:33:26.706661Z",
     "start_time": "2020-07-06T12:33:26.696505Z"
    }
   },
   "outputs": [],
   "source": [
    "parser = get_argparse()\n",
    "args = parser.parse_args(\n",
    "    '--model_path 4.ckpt.json \\\n",
    "    --img_data_path img_data/ \\\n",
    "    --font_name Arial\\\n",
    "    --case easy\\\n",
    "    --pert_type 2\\\n",
    "    --eps 0.2\\\n",
    "    --eps_iter 5\\\n",
    "    --nb_iter 1000\\\n",
    "    --batch_size 100\\\n",
    "    --clip_min 0.0\\\n",
    "    --clip_max 1.0'\n",
    "    .split())"
   ]
  },
  {
   "cell_type": "code",
   "execution_count": 82,
   "metadata": {
    "ExecuteTime": {
     "end_time": "2020-07-06T12:23:38.869504Z",
     "start_time": "2020-07-06T12:23:37.476357Z"
    }
   },
   "outputs": [
    {
     "name": "stdout",
     "output_type": "stream",
     "text": [
      "Checkpoint version 1 is up-to-date.\n",
      "charset: ['', ' ', '!', '\"', '#', '$', '%', '&', \"'\", '(', ')', '+', ',', '-', '.', '/', '0', '1', '2', '3', '4', '5', '6', '7', '8', '9', ':', ';', '<', '=', '>', '?', '@', 'A', 'B', 'C', 'D', 'E', 'F', 'G', 'H', 'I', 'J', 'K', 'L', 'M', 'N', 'O', 'P', 'Q', 'R', 'S', 'T', 'U', 'V', 'W', 'X', 'Y', 'Z', '[', ']', '`', 'a', 'b', 'c', 'd', 'e', 'f', 'g', 'h', 'i', 'j', 'k', 'l', 'm', 'n', 'o', 'p', 'q', 'r', 's', 't', 'u', 'v', 'w', 'x', 'y', 'z', '{', '}']\n",
      "Using CUDNN LSTM backend on GPU\n",
      "Successfully load the model's weights\n",
      "INFO:tensorflow:Restoring parameters from /home/chenlu/calamari/models/antiqua_modern/4.ckpt\n",
      "Using CUDNN LSTM backend on GPU\n"
     ]
    }
   ],
   "source": [
    "predictor = Predictor(checkpoint=os.path.join(\"ocr_model\", args.model_path), batch_size=1, processes=10)\n",
    "network = predictor.network\n",
    "sess, graph = network.session, network.graph\n",
    "encode, decode = network.codec.encode, network.codec.decode\n",
    "\n",
    "# build graph\n",
    "with graph.as_default():\n",
    "    # _ 是data_iterator如果是dataset input的话\n",
    "    inputs, input_seq_len, targets, dropout_rate, _, _ = network.create_placeholders()\n",
    "    output_seq_len, time_major_logits, time_major_softmax, logits, softmax, decoded, sparse_decoded, scale_factor, log_prob = \\\n",
    "        network.create_network(inputs, input_seq_len, dropout_rate, reuse_variables=tf.AUTO_REUSE)\n",
    "    loss = tf.nn.ctc_loss(labels=targets,\n",
    "                          inputs=time_major_logits,\n",
    "                          sequence_length=output_seq_len,\n",
    "                          time_major=True,\n",
    "                          ctc_merge_repeated=True,\n",
    "                          ignore_longer_outputs_than_inputs=True)\n",
    "    loss = -tf.reduce_mean(loss, name='loss')\n",
    "    grad, = tf.gradients(loss, inputs)\n",
    "\n",
    "    # Normalize current gradient and add it to the accumulated gradient\n",
    "    red_ind = list(range(1, len(grad.get_shape())))\n",
    "    avoid_zero_div = tf.cast(1e-12, grad.dtype)\n",
    "    divisor = tf.reduce_mean(tf.abs(grad), red_ind, keepdims=True)\n",
    "    norm_grad = grad / tf.maximum(avoid_zero_div, divisor)\n",
    "\n",
    "    m = tf.placeholder(tf.float32,\n",
    "                       shape=inputs.get_shape().as_list(),\n",
    "                       name=\"momentum\")\n",
    "    acc_m = m + norm_grad\n",
    "\n",
    "    grad = acc_m\n",
    "    # ord=np.inf\n",
    "    optimal_perturbation = tf.sign(grad)\n",
    "    optimal_perturbation = tf.stop_gradient(optimal_perturbation)\n",
    "    scaled_perturbation_inf = utils_tf.mul(0.01, optimal_perturbation)\n",
    "    # ord=1\n",
    "    # abs_grad = tf.abs(grad)\n",
    "    # max_abs_grad = tf.reduce_max(abs_grad, axis=red_ind, keepdims=True)\n",
    "    # tied_for_max = tf.to_float(tf.equal(abs_grad, max_abs_grad))\n",
    "    # num_ties = tf.reduce_sum(tied_for_max, axis=red_ind, keepdims=True)\n",
    "    # optimal_perturbation = tf.sign(grad) * tied_for_max / num_ties\n",
    "    # scaled_perturbation_1 = utils_tf.mul(0.01, optimal_perturbation)\n",
    "    # ord=2\n",
    "    square = tf.maximum(1e-12, tf.reduce_sum(tf.square(grad), axis=red_ind, keepdims=True))\n",
    "    optimal_perturbation = grad / tf.sqrt(square)\n",
    "    scaled_perturbation_2 = utils_tf.mul(0.01, optimal_perturbation)\n",
    "\n",
    "# set parameters\n",
    "font_name = args.font_name\n",
    "case = args.case\n",
    "pert_type = args.pert_type\n",
    "eps = args.eps\n",
    "eps_iter = args.eps_iter\n",
    "nb_iter = args.nb_iter\n",
    "img_data_path = args.img_data_path\n",
    "batch_size = args.batch_size\n",
    "clip_min, clip_max = args.clip_min, args.clip_max"
   ]
  },
  {
   "cell_type": "code",
   "execution_count": 84,
   "metadata": {
    "ExecuteTime": {
     "end_time": "2020-07-06T12:25:45.102012Z",
     "start_time": "2020-07-06T12:25:44.602281Z"
    }
   },
   "outputs": [],
   "source": [
    "# load img data\n",
    "with open(f'img_data/{font_name}.pkl', 'rb') as f:\n",
    "    input_img, len_x, gt_txt = pickle.load(f)\n",
    "# load attack pair\n",
    "with open(f'attack_pair/{font_name}-{case}.pkl', 'rb') as f:\n",
    "    _, target_txt = pickle.load(f)\n",
    "\n",
    "n_img = 200\n",
    "input_img, len_x, gt_txt, target_txt = input_img[:n_img], len_x[:n_img], gt_txt[:n_img], target_txt[:n_img]"
   ]
  },
  {
   "cell_type": "code",
   "execution_count": 88,
   "metadata": {
    "ExecuteTime": {
     "end_time": "2020-07-06T12:27:07.433425Z",
     "start_time": "2020-07-06T12:26:27.810085Z"
    }
   },
   "outputs": [
    {
     "name": "stderr",
     "output_type": "stream",
     "text": [
      " 50%|█████     | 1/2 [00:25<00:25, 25.55s/it]"
     ]
    },
    {
     "name": "stdout",
     "output_type": "stream",
     "text": [
      "379 break\n"
     ]
    },
    {
     "name": "stderr",
     "output_type": "stream",
     "text": [
      "\r",
      "100%|██████████| 2/2 [00:39<00:00, 22.03s/it]"
     ]
    },
    {
     "name": "stdout",
     "output_type": "stream",
     "text": [
      "205 break\n"
     ]
    },
    {
     "name": "stderr",
     "output_type": "stream",
     "text": [
      "\n"
     ]
    }
   ],
   "source": [
    "# run attack\n",
    "with graph.as_default():\n",
    "    adv_img = input_img.copy()\n",
    "    m0 = np.zeros(input_img.shape)\n",
    "    record_iter = np.zeros(input_img.shape[0])  # 0 stands for unsuccess\n",
    "    record_adv_text = []\n",
    "    # perform attack in batch images\n",
    "    batch_iter = len(input_img) // batch_size\n",
    "    batch_iter = batch_iter if len(input_img) % batch_size == 0 else batch_iter + 1\n",
    "    start = time.time()\n",
    "    for batch_i in tqdm(range(batch_iter)):\n",
    "        batch_input_img = input_img[batch_size * batch_i:batch_size * (batch_i + 1)]\n",
    "        batch_adv_img = adv_img[batch_size * batch_i:batch_size * (batch_i + 1)]\n",
    "        batch_len_x = len_x[batch_size * batch_i:batch_size * (batch_i + 1)]\n",
    "        batch_m0 = m0[batch_size * batch_i:batch_size * (batch_i + 1)]\n",
    "        batch_target_text = target_txt[batch_size * batch_i:batch_size * (batch_i + 1)]\n",
    "        batch_target_index = [np.asarray([c - 1 for c in encode(t)]) for t in batch_target_text]\n",
    "        batch_y = sparse_tuple_from(batch_target_index)\n",
    "        batch_record_iter = record_iter[batch_size * batch_i:batch_size * (batch_i + 1)]\n",
    "\n",
    "        scaled_perturbation = scaled_perturbation_2 if pert_type == '2' else scaled_perturbation_inf\n",
    "\n",
    "        batch_record_iter = np.zeros(batch_size)\n",
    "        for i in (range(nb_iter)):\n",
    "            batch_pert, batch_adv_text = sess.run(\n",
    "                [scaled_perturbation, decoded],  # pert type\n",
    "                feed_dict={\n",
    "                    inputs: batch_adv_img,\n",
    "                    input_seq_len: batch_len_x,\n",
    "                    m: batch_m0,\n",
    "                    targets: batch_y,\n",
    "                    dropout_rate: 0,\n",
    "                })\n",
    "            batch_pert[batch_record_iter != 0] = 0\n",
    "            batch_adv_img = batch_adv_img + eps_iter * batch_pert\n",
    "            batch_adv_img = batch_input_img + np.clip(batch_adv_img - batch_input_img, -eps, eps)\n",
    "            batch_adv_img = np.clip(batch_adv_img, clip_min, clip_max)\n",
    "            adv_img[batch_size * batch_i:batch_size * (batch_i + 1)] = batch_adv_img\n",
    "\n",
    "            batch_adv_index = TensorflowModel._TensorflowModel__sparse_to_lists(batch_adv_text)\n",
    "            batch_adv_text = [''.join(decode(index)) for index in batch_adv_index]\n",
    "\n",
    "            for j in range(batch_size):\n",
    "                if batch_adv_text[j] == batch_target_text[j] and batch_record_iter[j] == 0:\n",
    "                    batch_record_iter[j] = i\n",
    "            # check whether all batch examples are successful\n",
    "            if np.sum(batch_record_iter == 0) == 0:\n",
    "                print(f\"{i} break\")\n",
    "                break\n",
    "        record_iter[batch_size * batch_i:batch_size * (batch_i + 1)] = batch_record_iter\n",
    "        record_adv_text += batch_adv_text\n",
    "    duration = time.time() - start\n",
    "\n",
    "# save the attack result\n",
    "title = f\"{font_name}-{case}-l{pert_type}-eps{eps}-ieps{eps_iter}-iter{nb_iter}\"\n",
    "with open(f'attack_result/{title}-sample.pkl', 'wb') as f:\n",
    "    pickle.dump((adv_img, record_adv_text, record_iter, (duration, i)), f)"
   ]
  },
  {
   "cell_type": "code",
   "execution_count": 69,
   "metadata": {
    "ExecuteTime": {
     "end_time": "2020-07-02T07:47:24.791876Z",
     "start_time": "2020-07-02T07:47:24.115435Z"
    }
   },
   "outputs": [
    {
     "name": "stdout",
     "output_type": "stream",
     "text": [
      "Checkpoint version 1 is up-to-date.\n",
      "charset: ['', ' ', '!', '\"', '#', '$', '%', '&', \"'\", '(', ')', '+', ',', '-', '.', '/', '0', '1', '2', '3', '4', '5', '6', '7', '8', '9', ':', ';', '<', '=', '>', '?', '@', 'A', 'B', 'C', 'D', 'E', 'F', 'G', 'H', 'I', 'J', 'K', 'L', 'M', 'N', 'O', 'P', 'Q', 'R', 'S', 'T', 'U', 'V', 'W', 'X', 'Y', 'Z', '[', ']', '`', 'a', 'b', 'c', 'd', 'e', 'f', 'g', 'h', 'i', 'j', 'k', 'l', 'm', 'n', 'o', 'p', 'q', 'r', 's', 't', 'u', 'v', 'w', 'x', 'y', 'z', '{', '}']\n",
      "Using CUDNN LSTM backend on GPU\n",
      "Successfully load the model's weights\n",
      "INFO:tensorflow:Restoring parameters from /home/chenlu/calamari/models/antiqua_modern/4.ckpt\n"
     ]
    }
   ],
   "source": [
    "#coding=utf-8\n",
    "import tensorflow as tf\n",
    "import sklearn\n",
    "from PIL import Image\n",
    "import numpy as np\n",
    "import pickle, glob, time, sys\n",
    "from tqdm import tqdm\n",
    "from cleverhans import utils_tf\n",
    "from util import cvt2Image, sparse_tuple_from\n",
    "from calamari_ocr.ocr.backends.tensorflow_backend.tensorflow_model import TensorflowModel\n",
    "from calamari_ocr.ocr import Predictor\n",
    "\n",
    "predictor = Predictor(checkpoint=args.checkpoint, batch_size=1, processes=10)\n",
    "network = predictor.network\n",
    "sess, graph = network.session, network.graph\n",
    "codec = network.codec\n",
    "charset = codec.charset\n",
    "encode, decode = codec.encode, codec.decode\n",
    "code2char, char2code = codec.code2char, codec.char2code"
   ]
  },
  {
   "cell_type": "code",
   "execution_count": 70,
   "metadata": {
    "ExecuteTime": {
     "end_time": "2020-07-02T07:47:40.191507Z",
     "start_time": "2020-07-02T07:47:39.670079Z"
    }
   },
   "outputs": [
    {
     "name": "stdout",
     "output_type": "stream",
     "text": [
      "Using CUDNN LSTM backend on GPU\n"
     ]
    }
   ],
   "source": [
    "# build graph\n",
    "with graph.as_default():\n",
    "    # _ 是data_iterator如果是dataset input的话\n",
    "    inputs, input_seq_len, targets, dropout_rate, _, _ = network.create_placeholders()\n",
    "    output_seq_len, time_major_logits, time_major_softmax, logits, softmax, decoded, sparse_decoded, scale_factor, log_prob = \\\n",
    "                        network.create_network(inputs, input_seq_len, dropout_rate, reuse_variables=tf.AUTO_REUSE)\n",
    "    loss = tf.nn.ctc_loss(labels=targets,\n",
    "                          inputs=time_major_logits,\n",
    "                          sequence_length=output_seq_len,\n",
    "                          time_major=True,\n",
    "                          ctc_merge_repeated=True,\n",
    "                          ignore_longer_outputs_than_inputs=True)\n",
    "    loss = -tf.reduce_mean(loss, name='loss')\n",
    "    grad, = tf.gradients(loss, inputs)\n",
    "\n",
    "    # Normalize current gradient and add it to the accumulated gradient\n",
    "    red_ind = list(range(1, len(grad.get_shape())))\n",
    "    avoid_zero_div = tf.cast(1e-12, grad.dtype)\n",
    "    divisor = tf.reduce_mean(tf.abs(grad), red_ind, keepdims=True)\n",
    "    norm_grad = grad / tf.maximum(avoid_zero_div, divisor)\n",
    "\n",
    "    m = tf.placeholder(tf.float32,\n",
    "                       shape=inputs.get_shape().as_list(),\n",
    "                       name=\"momentum\")\n",
    "    acc_m = 0*m + norm_grad\n",
    "\n",
    "    grad = acc_m\n",
    "    # ord=np.inf\n",
    "    optimal_perturbation = tf.sign(grad)\n",
    "    optimal_perturbation = tf.stop_gradient(optimal_perturbation)\n",
    "    scaled_perturbation_inf = utils_tf.mul(0.01, optimal_perturbation)\n",
    "    # ord=1\n",
    "    abs_grad = tf.abs(grad)\n",
    "    max_abs_grad = tf.reduce_max(abs_grad, axis=red_ind, keepdims=True)\n",
    "    tied_for_max = tf.to_float(tf.equal(abs_grad, max_abs_grad))\n",
    "    num_ties = tf.reduce_sum(tied_for_max, axis=red_ind, keepdims=True)\n",
    "    optimal_perturbation = tf.sign(grad) * tied_for_max / num_ties\n",
    "    scaled_perturbation_1 = utils_tf.mul(0.01, optimal_perturbation)\n",
    "    # ord=2\n",
    "    square = tf.maximum(1e-12, tf.reduce_sum(tf.square(grad), axis=red_ind, keepdims=True))\n",
    "    optimal_perturbation = grad / tf.sqrt(square)\n",
    "    scaled_perturbation_2 = utils_tf.mul(0.01, optimal_perturbation)"
   ]
  },
  {
   "cell_type": "code",
   "execution_count": 71,
   "metadata": {
    "ExecuteTime": {
     "end_time": "2020-07-02T07:47:42.672668Z",
     "start_time": "2020-07-02T07:47:42.665605Z"
    },
    "collapsed": true
   },
   "outputs": [],
   "source": [
    "# load image data\n",
    "font_name = \"Arial\"\n",
    "case = \"easy\"\n",
    "pert_type = \"2\"\n",
    "eps = 0.2\n",
    "eps_iter = 5\n",
    "nb_iter = 1000\n",
    "img_data_path = '/home/chenlu/research/TextRecognitionDataGenerator/word_image_data'\n",
    "# img_data_path = '/home/chenlu/research/TextRecognitionDataGenerator/sentence_image_data'\n",
    "# img_data_path = '/home/chenlu/research/TextRecognitionDataGenerator/paragraph_image_data/'"
   ]
  },
  {
   "cell_type": "code",
   "execution_count": 72,
   "metadata": {
    "ExecuteTime": {
     "end_time": "2020-07-02T07:47:44.074355Z",
     "start_time": "2020-07-02T07:47:43.410092Z"
    },
    "collapsed": true
   },
   "outputs": [],
   "source": [
    "with open(f'{img_data_path}/{font_name}-{case}.pkl', 'rb') as f:\n",
    "    img_list, input_img, len_x, gt_txt, target_txt = pickle.load(f)\n",
    "input_img = np.asarray(input_img)"
   ]
  },
  {
   "cell_type": "code",
   "execution_count": 73,
   "metadata": {
    "ExecuteTime": {
     "end_time": "2020-07-02T07:47:44.093963Z",
     "start_time": "2020-07-02T07:47:44.079569Z"
    },
    "collapsed": true
   },
   "outputs": [],
   "source": [
    "n_img = 200\n",
    "img_list, input_img, len_x, gt_txt, target_txt = img_list[:n_img], input_img[:n_img], len_x[:n_img], gt_txt[:n_img], target_txt[:n_img]"
   ]
  },
  {
   "cell_type": "code",
   "execution_count": 74,
   "metadata": {
    "ExecuteTime": {
     "end_time": "2020-07-02T07:47:45.282532Z",
     "start_time": "2020-07-02T07:47:45.273497Z"
    },
    "collapsed": true
   },
   "outputs": [],
   "source": [
    "# run attack\n",
    "batch_size = 100\n",
    "clip_min, clip_max = 0.0, 1.0\n",
    "target_index_list = [np.asarray([c for c in encode(t)]) for t in target_txt]"
   ]
  },
  {
   "cell_type": "code",
   "execution_count": 75,
   "metadata": {
    "ExecuteTime": {
     "end_time": "2020-07-02T07:48:51.211798Z",
     "start_time": "2020-07-02T07:48:11.425405Z"
    }
   },
   "outputs": [
    {
     "name": "stderr",
     "output_type": "stream",
     "text": [
      " 50%|█████     | 1/2 [00:25<00:25, 25.83s/it]"
     ]
    },
    {
     "name": "stdout",
     "output_type": "stream",
     "text": [
      "379 break\n"
     ]
    },
    {
     "name": "stderr",
     "output_type": "stream",
     "text": [
      "\r",
      "100%|██████████| 2/2 [00:39<00:00, 22.25s/it]"
     ]
    },
    {
     "name": "stdout",
     "output_type": "stream",
     "text": [
      "205 break\n"
     ]
    },
    {
     "name": "stderr",
     "output_type": "stream",
     "text": [
      "\n"
     ]
    }
   ],
   "source": [
    "with graph.as_default():\n",
    "    adv_img = input_img.copy()\n",
    "    m0 = np.zeros(input_img.shape)\n",
    "    record_iter = np.zeros(input_img.shape[0])  # 0 stands for unsuccess\n",
    "    record_adv_text = []\n",
    "    # perform attack in batch images\n",
    "    batch_iter = len(input_img) // batch_size\n",
    "    batch_iter = batch_iter if len(input_img) % batch_size == 0 else batch_iter + 1\n",
    "    start = time.time()\n",
    "    for batch_i in tqdm(range(batch_iter)):\n",
    "        batch_input_img = input_img[batch_size * batch_i:batch_size * (batch_i + 1)]\n",
    "        batch_adv_img = adv_img[batch_size * batch_i:batch_size * (batch_i + 1)]\n",
    "        batch_len_x = len_x[batch_size * batch_i:batch_size * (batch_i + 1)]\n",
    "        batch_m0 = m0[batch_size * batch_i:batch_size * (batch_i + 1)]\n",
    "        batch_target_text = target_txt[batch_size * batch_i:batch_size * (batch_i + 1)]\n",
    "        batch_target_index = [np.asarray([c - 1 for c in encode(t)]) for t in batch_target_text]\n",
    "        batch_y = sparse_tuple_from(batch_target_index)\n",
    "        batch_record_iter = record_iter[batch_size * batch_i:batch_size * (batch_i + 1)]\n",
    "\n",
    "        scaled_perturbation = scaled_perturbation_2 if pert_type == '2' else scaled_perturbation_inf\n",
    "        \n",
    "        batch_record_iter = np.zeros(batch_size)\n",
    "        for i in (range(nb_iter)):\n",
    "            batch_pert, batch_adv_text, batch_m00 = sess.run(\n",
    "                [scaled_perturbation, decoded, acc_m],  # pert type\n",
    "                feed_dict={\n",
    "                    inputs: batch_adv_img,\n",
    "                    input_seq_len: batch_len_x,\n",
    "                    m: batch_m0,\n",
    "                    targets: batch_y,\n",
    "                    dropout_rate: 0,\n",
    "                })\n",
    "            batch_pert[batch_record_iter != 0] = 0\n",
    "            batch_adv_img = batch_adv_img + eps_iter * batch_pert\n",
    "            batch_adv_img = batch_input_img + np.clip(batch_adv_img - batch_input_img, -eps, eps)\n",
    "            batch_adv_img = np.clip(batch_adv_img, clip_min, clip_max)\n",
    "            adv_img[batch_size * batch_i:batch_size * (batch_i + 1)] = batch_adv_img\n",
    "            \n",
    "            batch_adv_index = TensorflowModel._TensorflowModel__sparse_to_lists(batch_adv_text)\n",
    "            batch_adv_text = [''.join(decode(index)) for index in batch_adv_index]\n",
    "            \n",
    "            for j in range(batch_size):\n",
    "                if batch_adv_text[j] == batch_target_text[j] and batch_record_iter[j] == 0:\n",
    "                    batch_record_iter[j] = i\n",
    "            # check whether all batch examples are successful\n",
    "            if np.sum(batch_record_iter == 0) == 0:\n",
    "                print(f\"{i} break\")\n",
    "                break\n",
    "        record_iter[batch_size * batch_i:batch_size * (batch_i + 1)] = batch_record_iter\n",
    "        record_adv_text += batch_adv_text\n",
    "    duration = time.time() - start"
   ]
  },
  {
   "cell_type": "code",
   "execution_count": 36,
   "metadata": {
    "ExecuteTime": {
     "end_time": "2020-06-23T07:58:04.849581Z",
     "start_time": "2020-06-23T07:58:04.309970Z"
    },
    "collapsed": true
   },
   "outputs": [],
   "source": [
    "title = f\"{font_name}-{case}-l{pert_type}-eps{eps}-ieps{eps_iter}-iter{nb_iter}\"\n",
    "with open(f'attack_result/{title}-sample.pkl', 'wb') as f:\n",
    "    pickle.dump((adv_img, record_adv_text, record_iter, (duration, i)), f)"
   ]
  },
  {
   "cell_type": "code",
   "execution_count": null,
   "metadata": {
    "collapsed": true
   },
   "outputs": [],
   "source": []
  }
 ],
 "metadata": {
  "kernelspec": {
   "display_name": "Python [conda env:ocr1]",
   "language": "python",
   "name": "conda-env-ocr1-py"
  },
  "language_info": {
   "codemirror_mode": {
    "name": "ipython",
    "version": 3
   },
   "file_extension": ".py",
   "mimetype": "text/x-python",
   "name": "python",
   "nbconvert_exporter": "python",
   "pygments_lexer": "ipython3",
   "version": "3.6.2"
  },
  "toc": {
   "base_numbering": 1,
   "nav_menu": {},
   "number_sections": true,
   "sideBar": true,
   "skip_h1_title": false,
   "title_cell": "Table of Contents",
   "title_sidebar": "Contents",
   "toc_cell": false,
   "toc_position": {},
   "toc_section_display": true,
   "toc_window_display": false
  }
 },
 "nbformat": 4,
 "nbformat_minor": 2
}

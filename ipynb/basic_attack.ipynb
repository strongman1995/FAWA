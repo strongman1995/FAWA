{
 "cells": [
  {
   "cell_type": "code",
   "execution_count": null,
   "metadata": {
    "ExecuteTime": {
     "end_time": "2020-02-14T12:27:05.907839Z",
     "start_time": "2020-02-14T12:27:05.902557Z"
    },
    "collapsed": true
   },
   "outputs": [],
   "source": [
    "import os\n",
    "os.environ[\"CUDA_VISIBLE_DEVICES\"] = '1' # import from shell"
   ]
  },
  {
   "cell_type": "code",
   "execution_count": null,
   "metadata": {
    "ExecuteTime": {
     "end_time": "2020-02-14T12:27:28.907304Z",
     "start_time": "2020-02-14T12:27:07.208336Z"
    }
   },
   "outputs": [],
   "source": [
    "import tensorflow as tf\n",
    "import sklearn\n",
    "from PIL import Image\n",
    "import numpy as np\n",
    "import pickle, glob, time, logging\n",
    "from tqdm import tqdm\n",
    "from cleverhans import utils_tf\n",
    "from util import cvt2Image, sparse_tuple_from\n",
    "from calamari_ocr.ocr.backends.tensorflow_backend.tensorflow_model import TensorflowModel\n",
    "from calamari_ocr.ocr import Predictor\n",
    "\n",
    "checkpoint = '/home/chenlu/calamari/models/antiqua_modern/4.ckpt.json'\n",
    "predictor = Predictor(checkpoint=checkpoint, batch_size=1, processes=10)\n",
    "network = predictor.network\n",
    "sess, graph = network.session, network.graph\n",
    "codec = network.codec\n",
    "charset = codec.charset\n",
    "encode, decode = codec.encode, codec.decode\n",
    "code2char, char2code = codec.code2char, codec.char2code"
   ]
  },
  {
   "cell_type": "code",
   "execution_count": null,
   "metadata": {
    "ExecuteTime": {
     "end_time": "2020-02-14T12:27:29.445799Z",
     "start_time": "2020-02-14T12:27:28.910983Z"
    }
   },
   "outputs": [],
   "source": [
    "# build graph\n",
    "with graph.as_default():\n",
    "    # _ 是data_iterator如果是dataset input的话\n",
    "    inputs, input_seq_len, targets, dropout_rate, _, _ = network.create_placeholders(\n",
    "    )\n",
    "    output_seq_len, time_major_logits, time_major_softmax, logits, softmax, decoded, sparse_decoded, scale_factor, log_prob = \\\n",
    "                        network.create_network(inputs, input_seq_len, dropout_rate, reuse_variables=tf.AUTO_REUSE)\n",
    "    loss = tf.nn.ctc_loss(labels=targets,\n",
    "                          inputs=time_major_logits,\n",
    "                          sequence_length=output_seq_len,\n",
    "                          time_major=True,\n",
    "                          ctc_merge_repeated=True,\n",
    "                          ignore_longer_outputs_than_inputs=True)\n",
    "    loss = -tf.reduce_mean(loss, name='loss')\n",
    "    grad, = tf.gradients(loss, inputs)\n",
    "\n",
    "    # Normalize current gradient and add it to the accumulated gradient\n",
    "    red_ind = list(range(1, len(grad.get_shape())))\n",
    "    avoid_zero_div = tf.cast(1e-12, grad.dtype)\n",
    "    divisor = tf.reduce_mean(tf.abs(grad), red_ind, keepdims=True)\n",
    "    norm_grad = grad / tf.maximum(avoid_zero_div, divisor)\n",
    "\n",
    "    m = tf.placeholder(tf.float32,\n",
    "                       shape=inputs.get_shape().as_list(),\n",
    "                       name=\"momentum\")\n",
    "    acc_m = m + norm_grad\n",
    "\n",
    "    grad = acc_m\n",
    "    # ord=np.inf\n",
    "    optimal_perturbation = tf.sign(grad)\n",
    "    optimal_perturbation = tf.stop_gradient(optimal_perturbation)\n",
    "    scaled_perturbation_inf = utils_tf.mul(0.01, optimal_perturbation)\n",
    "    # ord=1\n",
    "    abs_grad = tf.abs(grad)\n",
    "    max_abs_grad = tf.reduce_max(abs_grad, axis=red_ind, keepdims=True)\n",
    "    tied_for_max = tf.to_float(tf.equal(abs_grad, max_abs_grad))\n",
    "    num_ties = tf.reduce_sum(tied_for_max, axis=red_ind, keepdims=True)\n",
    "    optimal_perturbation = tf.sign(grad) * tied_for_max / num_ties\n",
    "    scaled_perturbation_1 = utils_tf.mul(0.01, optimal_perturbation)\n",
    "    # ord=2\n",
    "    square = tf.maximum(1e-12, tf.reduce_sum(tf.square(grad), axis=red_ind, keepdims=True))\n",
    "    optimal_perturbation = grad / tf.sqrt(square)\n",
    "    scaled_perturbation_2 = utils_tf.mul(0.01, optimal_perturbation)"
   ]
  },
  {
   "cell_type": "code",
   "execution_count": null,
   "metadata": {
    "ExecuteTime": {
     "end_time": "2020-02-14T12:28:21.167624Z",
     "start_time": "2020-02-14T12:28:17.312864Z"
    }
   },
   "outputs": [],
   "source": [
    "font_name = 'Arial'\n",
    "case = 'easy'\n",
    "pert_type = 'inf'\n",
    "eps = 0.2\n",
    "eps_iter = 1\n",
    "nb_iter = 1000\n",
    "\n",
    "# load image data\n",
    "img_data_path = '/home/chenlu/research/TextRecognitionDataGenerator/word_image_data'\n",
    "with open(f'{img_data_path}/{font_name}-{case}.pkl', 'rb') as f:\n",
    "    img_list, input_img, len_x, gt_txt, target_txt = pickle.load(f)\n",
    "input_img = np.asarray(input_img)\n",
    "input_img, len_x, target_txt = input_img[:100], len_x[:100], target_txt[:100]\n",
    "\n",
    "# set logger\n",
    "title = f\"{font_name}-{case}-l{pert_type}-eps{eps}-ieps{eps_iter}-iter{nb_iter}\"\n",
    "logging.basicConfig(\n",
    "    level=logging.INFO,\n",
    "    format='%(asctime)s - %(name)s - %(levelname)s - %(message)s',\n",
    "    datefmt='%a, %d %b %Y %H:%M:%S',\n",
    "    handlers={\n",
    "        logging.FileHandler(filename=f'attack_result/{title}.log',\n",
    "                            mode='a',\n",
    "                            encoding='utf-8')\n",
    "    })\n",
    "\n",
    "# run attack\n",
    "batch_size = 100\n",
    "clip_min, clip_max = 0.0, 1.0\n",
    "target_index_list = [np.asarray([c for c in encode(t)]) for t in target_txt]\n",
    "with graph.as_default():\n",
    "    adv_img = input_img.copy()\n",
    "    m0 = np.zeros(input_img.shape)\n",
    "    record_iter = np.zeros(input_img.shape[0])  # 0代表没成功\n",
    "\n",
    "    start = time.time()\n",
    "    for i in tqdm(range(nb_iter)):\n",
    "        # perform attack\n",
    "        batch_iter = len(input_img) // batch_size\n",
    "        batch_iter = batch_iter if len(input_img) % batch_size == 0 else batch_iter + 1\n",
    "        for batch_i in range(batch_iter):\n",
    "            batch_input_img = input_img[batch_size * batch_i:batch_size * (batch_i + 1)]\n",
    "            batch_adv_img = adv_img[batch_size * batch_i:batch_size * (batch_i + 1)]\n",
    "            batch_len_x = len_x[batch_size * batch_i:batch_size * (batch_i + 1)]\n",
    "            batch_m0 = m0[batch_size * batch_i:batch_size * (batch_i + 1)]\n",
    "            batch_target_txt = target_txt[batch_size * batch_i:batch_size * (batch_i + 1)]\n",
    "            batch_tmp_y = [np.asarray([c - 1 for c in encode(t)]) for t in batch_target_txt]\n",
    "            batch_y = sparse_tuple_from(batch_tmp_y)\n",
    "            batch_record_iter = record_iter[batch_size * batch_i:batch_size * (batch_i + 1)]\n",
    "            scaled_perturbation = scaled_perturbation_2 if pert_type == '2' else scaled_perturbation_inf\n",
    "            batch_pert = sess.run(scaled_perturbation, # pert type\n",
    "                                  feed_dict={\n",
    "                                      inputs: batch_adv_img,\n",
    "                                      input_seq_len: batch_len_x,\n",
    "                                      m: batch_m0,\n",
    "                                      targets: batch_y,\n",
    "                                      dropout_rate: 0,\n",
    "                                  })\n",
    "            batch_pert[batch_record_iter != 0] = 0\n",
    "            batch_adv_img = batch_adv_img + eps_iter * batch_pert\n",
    "            batch_adv_img = batch_input_img + np.clip(batch_adv_img - batch_input_img, -eps, eps)\n",
    "            batch_adv_img = np.clip(batch_adv_img, clip_min, clip_max)\n",
    "            adv_img[batch_size * batch_i:batch_size * (batch_i + 1)] = batch_adv_img\n",
    "\n",
    "        # check whether attack success\n",
    "        record_adv_text = []\n",
    "        for batch_i in range(batch_iter):\n",
    "            batch_adv_img = adv_img[batch_size * batch_i:batch_size * (batch_i + 1)]\n",
    "            batch_len_x = len_x[batch_size * batch_i:batch_size * (batch_i + 1)]\n",
    "            batch_target_index = target_index_list[batch_size * batch_i:batch_size * (batch_i + 1)]\n",
    "            batch_adv_text = sess.run(decoded,\n",
    "                                      feed_dict={\n",
    "                                          inputs: batch_adv_img,\n",
    "                                          input_seq_len: batch_len_x,\n",
    "                                          dropout_rate: 0,\n",
    "                                      })\n",
    "            batch_adv_index = TensorflowModel._TensorflowModel__sparse_to_lists(batch_adv_text)\n",
    "            record_adv_text += [''.join(decode(index)) for index in batch_adv_index]\n",
    "            for j in range(len(batch_target_index)):\n",
    "                # attack img idx_j successfully at iter i\n",
    "                idx_j = batch_size * batch_i + j\n",
    "                adv_index, target_index = batch_adv_index[j], batch_target_index[j]\n",
    "                if np.sum(adv_index != target_index) == 0 and record_iter[idx_j] == 0:\n",
    "                    record_iter[idx_j] = i\n",
    "\n",
    "        # check whether all examples are successful\n",
    "        if np.sum(record_iter == 0) == 0:\n",
    "            break\n",
    "\n",
    "    duration = time.time() - start\n",
    "    logging.info(f\"{i} break. Time cost {duration:.4f} s\")\n",
    "\n",
    "with open(f'attack_result/{title}.pkl', 'wb') as f:\n",
    "    pickle.dump((adv_img, record_adv_text, record_iter, (duration, i),), f)"
   ]
  },
  {
   "cell_type": "code",
   "execution_count": null,
   "metadata": {
    "ExecuteTime": {
     "end_time": "2020-02-14T12:12:48.932285Z",
     "start_time": "2020-02-14T12:12:48.914545Z"
    }
   },
   "outputs": [],
   "source": [
    "with open(f'attack_result/Arial-easy-l2-eps0.2-ieps5.0-iter1000.pkl', 'rb') as f:\n",
    "    adv_img, record_adv_text, record_iter, (duration, i) = pickle.load(f)"
   ]
  },
  {
   "cell_type": "code",
   "execution_count": null,
   "metadata": {
    "ExecuteTime": {
     "end_time": "2020-02-14T11:24:12.142704Z",
     "start_time": "2020-02-14T11:24:11.513246Z"
    },
    "scrolled": true
   },
   "outputs": [],
   "source": [
    "img_data_path = '/home/chenlu/research/TextRecognitionDataGenerator/word_image_data'\n",
    "with open(f'{img_data_path}/Arial-easy.pkl', 'rb') as f:\n",
    "    (easy_img_list, easy_input_img, easy_len_x, easy_gt_txt, easy_target_txt) = pickle.load(f)\n",
    "easy_input_img = np.asarray(easy_input_img)"
   ]
  },
  {
   "cell_type": "code",
   "execution_count": null,
   "metadata": {
    "ExecuteTime": {
     "end_time": "2020-02-14T12:28:52.494883Z",
     "start_time": "2020-02-14T12:28:52.480692Z"
    },
    "collapsed": true
   },
   "outputs": [],
   "source": [
    "def invert(data): # 反色\n",
    "    if data.max() < 1.5:\n",
    "        return 1 - data\n",
    "    else:\n",
    "        return 255 - data\n",
    "\n",
    "def transpose(data): # 旋转90度\n",
    "    if len(data.shape) != 2:\n",
    "        return np.swapaxes(data, 1, 2)\n",
    "    else:\n",
    "        return data.T\n",
    "\n",
    "def cvt2raw(data):\n",
    "    return transpose(invert(data))\n",
    "\n",
    "def show(img):\n",
    "    return cvt2Image(cvt2raw(img))\n",
    "\n",
    "from skimage.measure import compare_ssim, compare_mse, compare_psnr\n",
    "def pert_evaluation(image0, image1):\n",
    "    image0 = (255 * cvt2raw(image0)).astype('uint8')\n",
    "    image1 = (255 * cvt2raw(image1)).astype('uint8')\n",
    "    return compare_mse(image0, image1), compare_psnr(image0, image1), compare_ssim(image0, image1)"
   ]
  },
  {
   "cell_type": "code",
   "execution_count": 1,
   "metadata": {
    "ExecuteTime": {
     "end_time": "2020-02-15T09:20:32.212360Z",
     "start_time": "2020-02-15T09:20:27.191648Z"
    }
   },
   "outputs": [
    {
     "name": "stdout",
     "output_type": "stream",
     "text": [
      "Missing modules for handwritten text generation.\n",
      "here\n"
     ]
    },
    {
     "data": {
      "image/png": "[encoded data removed]",
      "text/plain": [
       "<PIL.Image.Image image mode=RGB size=191x100 at 0x7F501EB84390>"
      ]
     },
     "execution_count": 1,
     "metadata": {},
     "output_type": "execute_result"
    }
   ],
   "source": [
    "from trdg.generators import GeneratorFromStrings\n",
    "generator = GeneratorFromStrings(\n",
    "    strings=['eccv'],\n",
    "    count=1,  # 五种字体\n",
    "    fonts=['Impact.ttf'],  # default: []\n",
    "    language='en',\n",
    "    size=100,  # 32\n",
    "    skewing_angle=0,\n",
    "    random_skew=False,\n",
    "    blur=0,\n",
    "    random_blur=False,\n",
    "    # gaussian noise (0), plain white (1), quasicrystal (2) or picture (3)\n",
    "    background_type=1,\n",
    "    distorsion_type=0,  # None(0), Sine wave(1),Cosine wave(2),Random(3)\n",
    "    distorsion_orientation=0,\n",
    "    is_handwritten=False,\n",
    "    width=-1,\n",
    "    alignment=1,\n",
    "    text_color='#FFEE00',\n",
    "    orientation=0,\n",
    "    space_width=1.0,\n",
    "    character_spacing=0,\n",
    "    margins=(0, 0, 0, 0),\n",
    "    fit=True,\n",
    ")\n",
    "img_list = [img for img, _ in generator]\n",
    "wm_img = img_list[0]\n",
    "wm_img"
   ]
  },
  {
   "cell_type": "code",
   "execution_count": 2,
   "metadata": {
    "ExecuteTime": {
     "end_time": "2020-02-15T09:20:47.492587Z",
     "start_time": "2020-02-15T09:20:47.478490Z"
    }
   },
   "outputs": [
    {
     "data": {
      "image/png": "[encoded data removed]",
      "text/plain": [
       "<PIL.Image.Image image mode=RGB size=191x100 at 0x7F501EB84390>"
      ]
     },
     "execution_count": 2,
     "metadata": {},
     "output_type": "execute_result"
    }
   ],
   "source": [
    "wm_img"
   ]
  },
  {
   "cell_type": "code",
   "execution_count": null,
   "metadata": {
    "collapsed": true
   },
   "outputs": [],
   "source": []
  }
 ],
 "metadata": {
  "kernelspec": {
   "display_name": "Python [conda env:ocr1]",
   "language": "python",
   "name": "conda-env-ocr1-py"
  },
  "language_info": {
   "codemirror_mode": {
    "name": "ipython",
    "version": 3
   },
   "file_extension": ".py",
   "mimetype": "text/x-python",
   "name": "python",
   "nbconvert_exporter": "python",
   "pygments_lexer": "ipython3",
   "version": "3.6.2"
  },
  "toc": {
   "base_numbering": 1,
   "nav_menu": {},
   "number_sections": true,
   "sideBar": true,
   "skip_h1_title": false,
   "title_cell": "Table of Contents",
   "title_sidebar": "Contents",
   "toc_cell": false,
   "toc_position": {},
   "toc_section_display": true,
   "toc_window_display": false
  }
 },
 "nbformat": 4,
 "nbformat_minor": 2
}

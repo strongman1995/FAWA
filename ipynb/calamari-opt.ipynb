{
 "cells": [
  {
   "cell_type": "markdown",
   "metadata": {},
   "source": [
    "# import OCR"
   ]
  },
  {
   "cell_type": "code",
   "execution_count": 1,
   "metadata": {
    "ExecuteTime": {
     "end_time": "2020-03-24T11:01:16.289883Z",
     "start_time": "2020-03-24T11:01:16.284339Z"
    },
    "collapsed": true
   },
   "outputs": [],
   "source": [
    "import os\n",
    "os.environ[\"CUDA_VISIBLE_DEVICES\"] = '0'"
   ]
  },
  {
   "cell_type": "code",
   "execution_count": 2,
   "metadata": {
    "ExecuteTime": {
     "end_time": "2020-03-24T11:01:22.252547Z",
     "start_time": "2020-03-24T11:01:17.559201Z"
    },
    "collapsed": true
   },
   "outputs": [],
   "source": [
    "import time, io\n",
    "from tqdm import tqdm\n",
    "import tensorflow as tf\n",
    "import sklearn\n",
    "from PIL import Image\n",
    "import numpy as np\n",
    "import pickle\n",
    "from cleverhans import utils_tf\n",
    "from util import cvt2Image, sparse_tuple_from"
   ]
  },
  {
   "cell_type": "code",
   "execution_count": 3,
   "metadata": {
    "ExecuteTime": {
     "end_time": "2020-03-24T11:01:38.827402Z",
     "start_time": "2020-03-24T11:01:22.257045Z"
    }
   },
   "outputs": [
    {
     "name": "stdout",
     "output_type": "stream",
     "text": [
      "Checkpoint version 1 is up-to-date.\n",
      "charset: ['', ' ', '!', '\"', '#', '$', '%', '&', \"'\", '(', ')', '+', ',', '-', '.', '/', '0', '1', '2', '3', '4', '5', '6', '7', '8', '9', ':', ';', '<', '=', '>', '?', '@', 'A', 'B', 'C', 'D', 'E', 'F', 'G', 'H', 'I', 'J', 'K', 'L', 'M', 'N', 'O', 'P', 'Q', 'R', 'S', 'T', 'U', 'V', 'W', 'X', 'Y', 'Z', '[', ']', '`', 'a', 'b', 'c', 'd', 'e', 'f', 'g', 'h', 'i', 'j', 'k', 'l', 'm', 'n', 'o', 'p', 'q', 'r', 's', 't', 'u', 'v', 'w', 'x', 'y', 'z', '{', '}']\n",
      "Using CUDNN LSTM backend on GPU\n",
      "Successfully load the model's weights\n",
      "INFO:tensorflow:Restoring parameters from /home/chenlu/calamari/models/antiqua_modern/4.ckpt\n"
     ]
    }
   ],
   "source": [
    "from calamari_ocr.ocr.backends.tensorflow_backend.tensorflow_model import TensorflowModel\n",
    "from calamari_ocr.ocr import Predictor\n",
    "checkpoint = '/home/chenlu/calamari/models/antiqua_modern/4.ckpt.json'\n",
    "predictor = Predictor(checkpoint=checkpoint, batch_size=1, processes=10)"
   ]
  },
  {
   "cell_type": "code",
   "execution_count": 4,
   "metadata": {
    "ExecuteTime": {
     "end_time": "2020-03-24T11:01:38.841058Z",
     "start_time": "2020-03-24T11:01:38.832579Z"
    },
    "collapsed": true
   },
   "outputs": [],
   "source": [
    "network = predictor.network\n",
    "sess, graph = network.session, network.graph\n",
    "codec = network.codec\n",
    "charset = codec.charset\n",
    "encode, decode = codec.encode, codec.decode\n",
    "code2char, char2code = codec.code2char, codec.char2code"
   ]
  },
  {
   "cell_type": "code",
   "execution_count": 5,
   "metadata": {
    "ExecuteTime": {
     "end_time": "2020-03-24T11:01:38.855981Z",
     "start_time": "2020-03-24T11:01:38.845229Z"
    },
    "collapsed": true
   },
   "outputs": [],
   "source": [
    "def invert(data): # 反色\n",
    "    if data.max() < 1.5:\n",
    "        return 1 - data\n",
    "    else:\n",
    "        return 255 - data\n",
    "\n",
    "def transpose(data): # 旋转90度\n",
    "    if len(data.shape) != 2:\n",
    "        return np.swapaxes(data, 1, 2)\n",
    "    else:\n",
    "        return data.T\n",
    "\n",
    "def cvt2raw(data):\n",
    "    return transpose(invert(data))\n",
    "\n",
    "def show(img):\n",
    "    return cvt2Image(cvt2raw(img))"
   ]
  },
  {
   "cell_type": "code",
   "execution_count": 88,
   "metadata": {
    "ExecuteTime": {
     "end_time": "2020-03-31T16:23:10.894149Z",
     "start_time": "2020-03-31T16:23:08.374414Z"
    },
    "collapsed": true
   },
   "outputs": [],
   "source": [
    "img_data_path = '/home/chenlu/research/TextRecognitionDataGenerator/word_image_data'\n",
    "font_name, case, pert_type, eps, eps_iter, nb_iter = 'Arial', 'easy', '2', 0.2, 5.0,1000 \n",
    "\n",
    "with open(f'{img_data_path}/{font_name}-{case}.pkl', 'rb') as f:\n",
    "    _, input_img, len_x, gt_txt, target_txt = pickle.load(f)\n",
    "input_img = np.asarray(input_img)\n",
    "\n",
    "title = f\"{font_name}-{case}-l{pert_type}-eps{eps}-ieps{eps_iter}-iter{nb_iter}\"\n",
    "with open(f'wm_result/{title}.pkl', 'rb') as f:\n",
    "    (_, wm0_mask, _, wm0_img, record_text, _, adv_img, record_adv_text, record_iter, _, _) = pickle.load(f)"
   ]
  },
  {
   "cell_type": "code",
   "execution_count": 89,
   "metadata": {
    "ExecuteTime": {
     "end_time": "2020-03-31T16:23:11.062903Z",
     "start_time": "2020-03-31T16:23:10.899351Z"
    },
    "collapsed": true
   },
   "outputs": [],
   "source": [
    "img_data_path = '/home/chenlu/research/TextRecognitionDataGenerator/word_image_data'\n",
    "with open(f'{img_data_path}/intersect_word.pkl', 'rb') as f:\n",
    "    intersect_word = pickle.load(f)\n",
    "intersect_word = set(intersect_word)\n",
    "\n",
    "def filter_word(input_img, len_x, gt_txt, target_txt):\n",
    "    new_input_img, new_len_x, new_gt_txt, new_target_txt = [], [], [], []\n",
    "    for i, gt in enumerate(gt_txt):\n",
    "        if gt in intersect_word:\n",
    "            new_input_img.append(input_img[i])\n",
    "            new_len_x.append(len_x[i])\n",
    "            new_gt_txt.append(gt_txt[i])\n",
    "            new_target_txt.append(target_txt[i])\n",
    "    return np.asarray(new_input_img), new_len_x, new_gt_txt, new_target_txt\n",
    "input_img, len_x, gt_txt, target_txt = filter_word(input_img, len_x, gt_txt, target_txt)"
   ]
  },
  {
   "cell_type": "code",
   "execution_count": 91,
   "metadata": {
    "ExecuteTime": {
     "end_time": "2020-03-31T16:24:01.029732Z",
     "start_time": "2020-03-31T16:24:00.983676Z"
    },
    "collapsed": true
   },
   "outputs": [],
   "source": [
    "nb_sample = 1000\n",
    "len_x, target_txt = len_x[:nb_sample], target_txt[:nb_sample]\n",
    "input_img = input_img[:nb_sample]\n",
    "\n",
    "wm0_img = wm0_img[:nb_sample]\n",
    "wm_mask_img = wm0_mask[:nb_sample].astype('float32')"
   ]
  },
  {
   "cell_type": "markdown",
   "metadata": {},
   "source": [
    "# hyper-parameter"
   ]
  },
  {
   "cell_type": "code",
   "execution_count": 80,
   "metadata": {
    "ExecuteTime": {
     "end_time": "2020-03-31T16:19:42.683347Z",
     "start_time": "2020-03-31T16:19:42.676683Z"
    },
    "collapsed": true
   },
   "outputs": [],
   "source": [
    "shape = tuple([batch_size] + list(input_img.shape[1:]))  # (batch_size, height, width, channel)"
   ]
  },
  {
   "cell_type": "code",
   "execution_count": 81,
   "metadata": {
    "ExecuteTime": {
     "end_time": "2020-03-31T16:20:04.497581Z",
     "start_time": "2020-03-31T16:20:04.487106Z"
    },
    "collapsed": true
   },
   "outputs": [],
   "source": [
    "LEARNING_RATE = learning_rate = 0.01 # float\n",
    "ABORT_EARLY = abort_early = True # bool\n",
    "batch_size = batch_size = 100 # int\n",
    "clip_min, clip_max = 0.0, 1.0\n",
    "np_dtype = np.dtype('float32')\n",
    "tf_dtype = tf.as_dtype('float32')\n",
    "\n",
    "MAX_ITERATIONS = 1000\n",
    "BINARY_SEARCH_STEPS = 1\n",
    "initial_const = 100  # float\n",
    "LEARNING_RATE = 0.01"
   ]
  },
  {
   "cell_type": "markdown",
   "metadata": {},
   "source": [
    "# basic optimization method"
   ]
  },
  {
   "cell_type": "markdown",
   "metadata": {},
   "source": [
    "## build graph"
   ]
  },
  {
   "cell_type": "code",
   "execution_count": 140,
   "metadata": {
    "ExecuteTime": {
     "end_time": "2020-04-10T03:41:21.279856Z",
     "start_time": "2020-04-10T03:41:20.518734Z"
    }
   },
   "outputs": [
    {
     "name": "stdout",
     "output_type": "stream",
     "text": [
      "Using CUDNN LSTM backend on GPU\n"
     ]
    }
   ],
   "source": [
    "# build graph\n",
    "with graph.as_default():\n",
    "    # the variable we're going to optimize over\n",
    "    modifier = tf.Variable(np.zeros(shape, dtype=np_dtype))  # (batch_size, height, width, channel)\n",
    "    # these are variables to be more efficient in sending data to tf\n",
    "    timg = tf.Variable(np.zeros(shape), dtype=tf_dtype, name='timg')\n",
    "    input_seq_len = tf.Variable(np.zeros(batch_size), dtype=tf.int32, name='seq_len')\n",
    "    const = tf.Variable(np.zeros(batch_size), dtype=tf_dtype, name='const')\n",
    "    # and here's what we use to assign them\n",
    "    assign_timg, assign_input_seq_len, targets, dropout_rate, _, _ = network.create_placeholders()\n",
    "    assign_const = tf.placeholder(tf_dtype, [batch_size], name='assign_const')\n",
    "    \n",
    "    # the resulting instance, tanh'd to keep bounded from clip_min to clip_max\n",
    "    newimg = (tf.tanh(modifier + timg) + 1) / 2\n",
    "    newimg = newimg * (clip_max - clip_min) + clip_min \n",
    "    # prediction BEFORE-SOFTMAX of the model\n",
    "    output_seq_len, time_major_logits, time_major_softmax, logits, softmax, decoded, sparse_decoded, scale_factor, \\\n",
    "            log_prob = network.create_network(newimg, input_seq_len, dropout_rate, reuse_variables=tf.AUTO_REUSE)\n",
    "    # distance to the input data\n",
    "        \n",
    "    # ctc loss\n",
    "    loss1 = tf.nn.ctc_loss(labels=targets,\n",
    "                           inputs=time_major_logits,\n",
    "                           sequence_length=output_seq_len,\n",
    "                           time_major=True,\n",
    "                           ctc_merge_repeated=True,\n",
    "                           ignore_longer_outputs_than_inputs=True)\n",
    "    loss1 = tf.reduce_sum(const * loss1) # mu * ctc_loss\n",
    "    \n",
    "    # L2-norm distance\n",
    "    other = (tf.tanh(timg) + 1) / 2 * (clip_max - clip_min) + clip_min  \n",
    "    l2dist = tf.reduce_sum(tf.square(newimg - other), axis=list(range(1, len(shape))))\n",
    "    loss2 = tf.reduce_sum(l2dist) \n",
    "    \n",
    "    # nps: non-printability score\n",
    "    closest_val = tf.round(newimg * 255)  # 乘 255 取整\n",
    "    loss3 = 1e-2 * tf.reduce_sum(tf.abs(255 * newimg - closest_val))\n",
    "\n",
    "    # tv: total variation\n",
    "    n_x, n_y = input_img.shape[1], input_img.shape[2]\n",
    "    tmp1 = modifier[:, :n_x - 1, :n_y - 1]\n",
    "    tmp2 = modifier[:, 1:n_x, :n_y - 1]\n",
    "    tmp3 = modifier[:, :n_x - 1, 1:n_y]\n",
    "    tv = tf.sqrt(tf.square(tmp1 - tmp2) + tf.square(tmp1 - tmp3) + 1e-5)\n",
    "    loss4 = tf.reduce_sum(1e-3 * tv)\n",
    "    \n",
    "    loss = loss1 + loss2 + loss4\n",
    "    \n",
    "    # Setup the adam optimizer and keep track of variables we're creating\n",
    "    start_vars = set(x.name for x in tf.global_variables())\n",
    "    optimizer = tf.train.AdamOptimizer(LEARNING_RATE)\n",
    "    train = optimizer.minimize(loss, var_list=[modifier])\n",
    "    end_vars = tf.global_variables()\n",
    "    new_vars = [x for x in end_vars if x.name not in start_vars] # 优化在 optimizer 和 train 里的变量\n",
    "    \n",
    "    # these are the variables to initialize when we run\n",
    "    setup = []\n",
    "    setup.append(timg.assign(assign_timg))\n",
    "    setup.append(input_seq_len.assign(assign_input_seq_len))\n",
    "    setup.append(const.assign(assign_const))\n",
    "\n",
    "    init = tf.variables_initializer(var_list=[modifier] + new_vars)"
   ]
  },
  {
   "cell_type": "markdown",
   "metadata": {
    "heading_collapsed": true
   },
   "source": [
    "## build graph + eps constraint"
   ]
  },
  {
   "cell_type": "code",
   "execution_count": null,
   "metadata": {
    "ExecuteTime": {
     "end_time": "2020-02-27T03:39:25.514687Z",
     "start_time": "2020-02-27T03:39:24.842497Z"
    },
    "collapsed": true,
    "hidden": true
   },
   "outputs": [],
   "source": [
    "# build graph\n",
    "with graph.as_default():\n",
    "    # the variable we're going to optimize over\n",
    "    modifier = tf.Variable(np.zeros(shape, dtype=np_dtype))  # (batch_size, height, width, channel)\n",
    "    # these are variables to be more efficient in sending data to tf\n",
    "    timg = tf.Variable(np.zeros(shape), dtype=tf_dtype, name='timg')\n",
    "    input_seq_len = tf.Variable(np.zeros(batch_size), dtype=tf.int32, name='seq_len')\n",
    "    const = tf.Variable(np.zeros(batch_size), dtype=tf_dtype, name='const')\n",
    "    # and here's what we use to assign them\n",
    "    assign_timg, assign_input_seq_len, targets, dropout_rate, _, _ = network.create_placeholders()\n",
    "    assign_const = tf.placeholder(tf_dtype, [batch_size], name='assign_const')\n",
    "    \n",
    "    # the resulting instance, tanh'd to keep bounded from clip_min to clip_max\n",
    "    newimg = (tf.tanh(modifier + timg) + 1) / 2\n",
    "    newimg = newimg * (clip_max - clip_min) + clip_min \n",
    "#     newimg = tf.clip_by_value(0.2 * tf.tanh(modifier) + timg, clip_min, clip_max)\n",
    "#     newimg = (tf.tanh(0.5 * tf.tanh(modifier) + timg) + 1) / 2\n",
    "\n",
    "    # prediction BEFORE-SOFTMAX of the model\n",
    "    output_seq_len, time_major_logits, time_major_softmax, logits, softmax, decoded, sparse_decoded, scale_factor, \\\n",
    "            log_prob = network.create_network(newimg, input_seq_len, dropout_rate, reuse_variables=tf.AUTO_REUSE)\n",
    "    # distance to the input data\n",
    "    other = (tf.tanh(timg) + 1) / 2 * (clip_max - clip_min) + clip_min  \n",
    "    l2dist = tf.reduce_sum(tf.square(newimg - other), axis=list(range(1, len(shape))))  # (batch_size, )\n",
    "       \n",
    "    # sum up the losses\n",
    "    loss1 = tf.nn.ctc_loss(labels=targets,\n",
    "                           inputs=time_major_logits,\n",
    "                           sequence_length=output_seq_len,\n",
    "                           time_major=True,\n",
    "                           ctc_merge_repeated=True,\n",
    "                           ignore_longer_outputs_than_inputs=True)\n",
    "    loss1 = tf.reduce_sum(const * loss1) # mu * ctc_loss\n",
    "    loss2 = tf.reduce_sum(l2dist) # L2-norm distance\n",
    "    loss = loss1 + loss2\n",
    "    \n",
    "    # Setup the adam optimizer and keep track of variables we're creating\n",
    "    start_vars = set(x.name for x in tf.global_variables())\n",
    "    optimizer = tf.train.AdamOptimizer(LEARNING_RATE)\n",
    "    train = optimizer.minimize(loss, var_list=[modifier])\n",
    "    end_vars = tf.global_variables()\n",
    "    new_vars = [x for x in end_vars if x.name not in start_vars] # 优化在 optimizer 和 train 里的变量\n",
    "    \n",
    "    # these are the variables to initialize when we run\n",
    "    setup = []\n",
    "    setup.append(timg.assign(assign_timg))\n",
    "    setup.append(input_seq_len.assign(assign_input_seq_len))\n",
    "    setup.append(const.assign(assign_const))\n",
    "\n",
    "    init = tf.variables_initializer(var_list=[modifier] + new_vars)"
   ]
  },
  {
   "cell_type": "markdown",
   "metadata": {},
   "source": [
    "## run attack"
   ]
  },
  {
   "cell_type": "code",
   "execution_count": 141,
   "metadata": {
    "ExecuteTime": {
     "end_time": "2020-04-10T03:41:21.862258Z",
     "start_time": "2020-04-10T03:41:21.798601Z"
    },
    "collapsed": true
   },
   "outputs": [],
   "source": [
    "# preprocess img\n",
    "# imgs = input_img[:len(input_img) // batch_size * batch_size]\n",
    "imgs = input_img[:batch_size]\n",
    "imgs = (imgs - clip_min) / (clip_max - clip_min) # re-scale instances to be within range [0, 1]\n",
    "imgs = np.clip(imgs, clip_min, clip_max)\n",
    "imgs = (imgs * 2) - 1 # now convert to [-1, 1]\n",
    "imgs = np.arctanh(imgs * .999999) # convert to tanh-space"
   ]
  },
  {
   "cell_type": "code",
   "execution_count": 142,
   "metadata": {
    "ExecuteTime": {
     "end_time": "2020-04-10T03:42:07.430754Z",
     "start_time": "2020-04-10T03:41:22.222040Z"
    }
   },
   "outputs": [
    {
     "name": "stdout",
     "output_type": "stream",
     "text": [
      "  Binary search step 0 of 1\n",
      "Iteration 0 of 1000 loss=316270.0 ctc_loss=316267.1 l2s=0.000 tv=2.854\n",
      "acc: 0.0\n",
      "Iteration 100 of 1000 loss=39492.6 ctc_loss=37707.1 l2s=16.846 tv=100.849\n",
      "acc: 0.47\n",
      "Iteration 200 of 1000 loss=5321.8 ctc_loss=3187.0 l2s=20.284 tv=106.456\n",
      "acc: 0.95\n",
      "Iteration 300 of 1000 loss=3076.4 ctc_loss=1182.5 l2s=17.968 tv=97.049\n",
      "acc: 0.98\n",
      "Iteration 400 of 1000 loss=2355.1 ctc_loss=659.4 l2s=16.061 tv=89.617\n",
      "acc: 0.98\n",
      "Iteration 500 of 1000 loss=1937.2 ctc_loss=399.8 l2s=14.537 tv=83.658\n",
      "acc: 0.99\n",
      "Iteration 600 of 1000 loss=1755.4 ctc_loss=345.2 l2s=13.313 tv=78.895\n",
      "acc: 0.99\n",
      "Iteration 700 of 1000 loss=1615.7 ctc_loss=303.1 l2s=12.374 tv=75.117\n",
      "acc: 0.99\n",
      "Iteration 800 of 1000 loss=1497.5 ctc_loss=264.5 l2s=11.609 tv=72.026\n",
      "acc: 0.99\n",
      "Iteration 900 of 1000 loss=1411.4 ctc_loss=245.9 l2s=10.961 tv=69.375\n",
      "acc: 0.99\n",
      "Successfully generated adversarial examples on 99 of 100 instances.\n",
      "Mean successful distortion: 3.08\n",
      "------------------------------ 0 ------------------------------\n"
     ]
    }
   ],
   "source": [
    "with graph.as_default():\n",
    "    adv_img_list = []\n",
    "    adv_l2_list = []\n",
    "    adv_txt_list = []\n",
    "    adv_iter_list = []\n",
    "    for i in range(0, len(imgs), batch_size):  # run attack in batch data\n",
    "        # set the lower and upper bounds accordingly\n",
    "        lower_bound = np.zeros(batch_size)  # (batch_size, )\n",
    "        CONST = np.ones(batch_size) * initial_const  # (batch_size, )\n",
    "        upper_bound = np.ones(batch_size) * 1e10  # (batch_size, )\n",
    "\n",
    "        # placeholders for the best l2, score, and instance attack found so far\n",
    "        o_bestl2 = [1e10] * batch_size  # (batch_size, )\n",
    "        o_bestscore = [-1] * batch_size  # (batch_size, )\n",
    "        o_bestattack = np.zeros(shape)\n",
    "        o_bestiter = [-1] * batch_size\n",
    "\n",
    "        for outer_step in range(BINARY_SEARCH_STEPS):  # 二分调整 const\n",
    "            # completely reset adam's internal state.\n",
    "            sess.run(init)\n",
    "            batch = imgs[i:i + batch_size]\n",
    "            batch_len_x = len_x[i:i + batch_size]\n",
    "            batch_target_txt = target_txt[i:i + batch_size]\n",
    "            batch_tmp_y = [\n",
    "                np.asarray([c - 1 for c in encode(t)])\n",
    "                for t in batch_target_txt\n",
    "            ]\n",
    "            batch_y = sparse_tuple_from(batch_tmp_y)\n",
    "\n",
    "            bestl2 = [1e10] * batch_size  # (batch_size, )\n",
    "            bestscore = [-1] * batch_size  # (batch_size, )\n",
    "            bestiter = [-1] * batch_size\n",
    "            print(\n",
    "                f\"  Binary search step {outer_step} of {BINARY_SEARCH_STEPS}\")\n",
    "\n",
    "            # set the variables so that we don't have to send them over again\n",
    "            sess.run(\n",
    "                setup, {\n",
    "                    assign_timg: batch,\n",
    "                    assign_input_seq_len: batch_len_x,\n",
    "                    assign_const: CONST,\n",
    "                })\n",
    "\n",
    "            for iteration in range(MAX_ITERATIONS):  # 开始迭代攻击\n",
    "                # perform the attack\n",
    "                _, l, scores, l2s, batch_adv_txt, nimg, l4 = sess.run(\n",
    "                    [train, loss, loss1, l2dist, decoded, newimg, loss4],\n",
    "                    feed_dict={\n",
    "                        targets: batch_y,\n",
    "                        dropout_rate: 0\n",
    "                    })\n",
    "                batch_adv_index = TensorflowModel._TensorflowModel__sparse_to_lists(batch_adv_txt)\n",
    "                batch_adv_txt = [''.join(decode(index)) for index in batch_adv_index]\n",
    "                # attack done\n",
    "                if iteration % ((MAX_ITERATIONS // 10) or 1) == 0:\n",
    "                    print(f\"Iteration {iteration} of {MAX_ITERATIONS} \" +\n",
    "                          f\"loss={l:.1f} ctc_loss={np.mean(scores):.1f} \" + \n",
    "                          f\"l2s={np.mean(l2s):.3f} tv={np.mean(l4):.3f}\")\n",
    "\n",
    "                # adjust the best result found so far\n",
    "                for e, (l2, ii) in enumerate(zip(l2s, nimg)):\n",
    "                    target_t, adv_t = batch_target_txt[e], batch_adv_txt[e]\n",
    "                    if l2 < bestl2[e] and target_t == adv_t:\n",
    "                        bestl2[e] = l2\n",
    "                        bestscore[e] = adv_t\n",
    "                        if bestiter[e] == -1: # record success iter\n",
    "                            bestiter[e] = iteration\n",
    "                    if l2 < o_bestl2[e] and target_t == adv_t:\n",
    "                        o_bestl2[e] = l2\n",
    "                        o_bestscore[e] = adv_t  # batch_adv_txt\n",
    "                        o_bestattack[e] = ii\n",
    "                        if o_bestiter[e] == -1: # record success iter\n",
    "                            o_bestiter[e] = iteration\n",
    "\n",
    "                # check if we should abort search if we're getting nowhere.\n",
    "                if ABORT_EARLY:\n",
    "                    n_success = 0\n",
    "                    for target_t, adv_t in zip(batch_target_txt, bestscore):\n",
    "                        if target_t == adv_t:\n",
    "                            n_success += 1\n",
    "                    if iteration % ((MAX_ITERATIONS // 10) or 1) == 0:\n",
    "                        print(f'acc: {n_success / len(batch_target_txt)}')\n",
    "                    if n_success == len(batch_target_txt):\n",
    "                        print(f\"iteration[{iteration}] break, all attacks succeed!\")\n",
    "                        break\n",
    "\n",
    "            # adjust the constant as needed\n",
    "            for e in range(batch_size):  # 二分调整 const\n",
    "                if bestscore[e] == batch_target_txt[e]:\n",
    "                    # success, divide const by two\n",
    "                    upper_bound[e] = min(upper_bound[e], CONST[e])\n",
    "                    if upper_bound[e] < 1e9:\n",
    "                        CONST[e] = (lower_bound[e] + upper_bound[e]) / 2\n",
    "                else:\n",
    "                    # failure, either multiply by 10 if no solution found yet\n",
    "                    # or do binary search with the known upper bound\n",
    "                    lower_bound[e] = max(lower_bound[e], CONST[e])\n",
    "                    if upper_bound[e] < 1e9:\n",
    "                        CONST[e] = (lower_bound[e] + upper_bound[e]) / 2\n",
    "                    else:\n",
    "                        CONST[e] *= 10\n",
    "\n",
    "            print(\n",
    "                f\"Successfully generated adversarial examples on {sum(upper_bound < 1e9)} of {batch_size} instances.\"\n",
    "            )\n",
    "            o_bestl2 = np.array(o_bestl2)\n",
    "            mean = np.mean(np.sqrt(o_bestl2[o_bestl2 < 1e9]))\n",
    "            print(f\"Mean successful distortion: {mean:.4g}\")\n",
    "\n",
    "        # return the best solution found\n",
    "        o_bestl2 = np.array(o_bestl2)\n",
    "        adv_l2_list.append(o_bestl2)\n",
    "        adv_txt_list += o_bestscore\n",
    "        adv_img_list.append(o_bestattack)  # 把 batch adv img 加到 list 中\n",
    "        adv_iter_list += o_bestiter\n",
    "        print('-' * 30, i, '-' * 30)\n",
    "\n",
    "adv_img = np.asarray(adv_img_list).reshape(imgs.shape)\n",
    "adv_l2 = np.asarray(adv_l2_list).reshape(-1)"
   ]
  },
  {
   "cell_type": "code",
   "execution_count": 145,
   "metadata": {
    "ExecuteTime": {
     "end_time": "2020-04-10T03:52:24.696483Z",
     "start_time": "2020-04-10T03:52:24.684810Z"
    }
   },
   "outputs": [
    {
     "name": "stdout",
     "output_type": "stream",
     "text": [
      "foy\n"
     ]
    },
    {
     "data": {
      "image/png": "[encoded data removed]",
      "text/plain": [
       "<PIL.Image.Image image mode=L size=193x48 at 0x7F48F820CD68>"
      ]
     },
     "execution_count": 145,
     "metadata": {},
     "output_type": "execute_result"
    }
   ],
   "source": [
    "print(target_txt[0])\n",
    "show(adv_img[0])"
   ]
  },
  {
   "cell_type": "code",
   "execution_count": null,
   "metadata": {
    "collapsed": true
   },
   "outputs": [],
   "source": [
    "adv_img[0]"
   ]
  },
  {
   "cell_type": "code",
   "execution_count": null,
   "metadata": {
    "collapsed": true
   },
   "outputs": [],
   "source": [
    "initial_const = 50  # float"
   ]
  },
  {
   "cell_type": "code",
   "execution_count": 100,
   "metadata": {
    "ExecuteTime": {
     "end_time": "2020-03-31T16:32:01.649372Z",
     "start_time": "2020-03-31T16:32:01.641408Z"
    },
    "collapsed": true
   },
   "outputs": [],
   "source": [
    "from skimage.measure import compare_ssim, compare_mse, compare_psnr"
   ]
  },
  {
   "cell_type": "code",
   "execution_count": 103,
   "metadata": {
    "ExecuteTime": {
     "end_time": "2020-03-31T16:32:30.046633Z",
     "start_time": "2020-03-31T16:32:29.888800Z"
    }
   },
   "outputs": [
    {
     "data": {
      "text/plain": [
       "121.9368019663174"
      ]
     },
     "execution_count": 103,
     "metadata": {},
     "output_type": "execute_result"
    }
   ],
   "source": [
    "compare_mse(adv_img*255, input_img* 255)"
   ]
  },
  {
   "cell_type": "code",
   "execution_count": 106,
   "metadata": {
    "ExecuteTime": {
     "end_time": "2020-03-31T16:34:09.155864Z",
     "start_time": "2020-03-31T16:34:09.147321Z"
    }
   },
   "outputs": [
    {
     "data": {
      "text/plain": [
       "111.466"
      ]
     },
     "execution_count": 106,
     "metadata": {},
     "output_type": "execute_result"
    }
   ],
   "source": [
    "np.mean(np.array(adv_iter_list))"
   ]
  },
  {
   "cell_type": "code",
   "execution_count": 104,
   "metadata": {
    "ExecuteTime": {
     "end_time": "2020-03-31T16:32:51.518060Z",
     "start_time": "2020-03-31T16:32:51.440175Z"
    }
   },
   "outputs": [
    {
     "data": {
      "text/plain": [
       "121.93680196631742"
      ]
     },
     "execution_count": 104,
     "metadata": {},
     "output_type": "execute_result"
    }
   ],
   "source": [
    "np.mean(((adv_img - input_img)*255)**2)"
   ]
  },
  {
   "cell_type": "code",
   "execution_count": 48,
   "metadata": {
    "ExecuteTime": {
     "end_time": "2020-03-24T11:46:53.041459Z",
     "start_time": "2020-03-24T11:46:53.025953Z"
    }
   },
   "outputs": [
    {
     "name": "stdout",
     "output_type": "stream",
     "text": [
      "adv_text: fandom target_txt fandom\n"
     ]
    },
    {
     "data": {
      "image/png": "[encoded data removed]",
      "text/plain": [
       "<PIL.Image.Image image mode=L size=193x48 at 0x7F49C8325D68>"
      ]
     },
     "execution_count": 48,
     "metadata": {},
     "output_type": "execute_result"
    }
   ],
   "source": [
    "idx = 8\n",
    "print(\"adv_text:\", adv_txt_list[idx],\"target_txt\", target_txt[idx])\n",
    "show(adv_img[idx]) # basic optimized img"
   ]
  },
  {
   "cell_type": "markdown",
   "metadata": {},
   "source": [
    "# wm optimization method"
   ]
  },
  {
   "cell_type": "markdown",
   "metadata": {},
   "source": [
    "## build graph"
   ]
  },
  {
   "cell_type": "code",
   "execution_count": 33,
   "metadata": {
    "ExecuteTime": {
     "end_time": "2020-03-24T11:35:31.117918Z",
     "start_time": "2020-03-24T11:35:30.194573Z"
    }
   },
   "outputs": [
    {
     "name": "stdout",
     "output_type": "stream",
     "text": [
      "Using CUDNN LSTM backend on GPU\n"
     ]
    }
   ],
   "source": [
    "# build graph\n",
    "with graph.as_default():\n",
    "    # these are variables to be more efficient in sending data to tf\n",
    "    timg = tf.Variable(np.zeros(shape), dtype=tf_dtype, name='timg')\n",
    "    input_seq_len = tf.Variable(np.zeros(batch_size), dtype=tf.int32, name='seq_len')\n",
    "    wm_mask = tf.Variable(np.zeros(shape), dtype=tf_dtype, name='wm_mask')\n",
    "    const = tf.Variable(np.zeros(batch_size), dtype=tf_dtype, name='const')\n",
    "    # and here's what we use to assign them\n",
    "    assign_timg, assign_input_seq_len, targets, dropout_rate, _, _ = network.create_placeholders()\n",
    "    assign_wm_mask = tf.placeholder(tf_dtype, shape, name='assign_const')\n",
    "    assign_const = tf.placeholder(tf_dtype, [batch_size], name='assign_const')\n",
    "    \n",
    "    # the variable we're going to optimize over\n",
    "    modifier = tf.Variable(np.zeros(shape, dtype=np_dtype))\n",
    "    # the resulting instance, tanh'd to keep bounded from clip_min to clip_max\n",
    "    newimg = (tf.tanh(wm_mask * modifier + timg) + 1) / 2\n",
    "    newimg = newimg * (clip_max - clip_min) + clip_min \n",
    "    # prediction BEFORE-SOFTMAX of the model\n",
    "    output_seq_len, time_major_logits, time_major_softmax, logits, softmax, decoded, sparse_decoded, scale_factor, \\\n",
    "            log_prob = network.create_network(newimg, input_seq_len, dropout_rate, reuse_variables=tf.AUTO_REUSE)\n",
    "       \n",
    "    # CTC loss\n",
    "    loss1 = tf.nn.ctc_loss(labels=targets,\n",
    "                           inputs=time_major_logits,\n",
    "                           sequence_length=output_seq_len,\n",
    "                           time_major=True,\n",
    "                           ctc_merge_repeated=True,\n",
    "                           ignore_longer_outputs_than_inputs=True)\n",
    "    loss1 = tf.reduce_sum(const * loss1) # mu * ctc_loss\n",
    "    \n",
    "    # L2-norm distance to the input data\n",
    "    other = (tf.tanh(timg) + 1) / 2 * (clip_max - clip_min) + clip_min  \n",
    "    l2dist = tf.reduce_sum(tf.square(newimg - other), axis=list(range(1, len(shape))))  # (batch_size, )\n",
    "    loss2 = tf.reduce_sum(l2dist) \n",
    "    \n",
    "    # nps: non-printability score\n",
    "    closest_val = tf.divide(tf.round(newimg * 255), 255)  # 乘 255 取整后再除回去\n",
    "    loss3 = tf.reduce_sum(10*tf.abs(newimg - closest_val))\n",
    "    \n",
    "    # loss function\n",
    "    loss = loss1 + loss2\n",
    "    \n",
    "    # Setup the adam optimizer and keep track of variables we're creating\n",
    "    start_vars = set(x.name for x in tf.global_variables())\n",
    "    optimizer = tf.train.AdamOptimizer(LEARNING_RATE)\n",
    "    train = optimizer.minimize(loss, var_list=[modifier])\n",
    "    end_vars = tf.global_variables()\n",
    "    new_vars = [x for x in end_vars if x.name not in start_vars] # 优化在 optimizer 和 train 里的变量\n",
    "    \n",
    "    # these are the variables to initialize when we run\n",
    "    setup = []\n",
    "    setup.append(timg.assign(assign_timg))\n",
    "    setup.append(input_seq_len.assign(assign_input_seq_len))\n",
    "    setup.append(wm_mask.assign(assign_wm_mask))\n",
    "    setup.append(const.assign(assign_const))\n",
    "    \n",
    "    init = tf.variables_initializer(var_list=[modifier] + new_vars)"
   ]
  },
  {
   "cell_type": "markdown",
   "metadata": {},
   "source": [
    "## run attack"
   ]
  },
  {
   "cell_type": "code",
   "execution_count": 34,
   "metadata": {
    "ExecuteTime": {
     "end_time": "2020-03-24T11:35:35.705335Z",
     "start_time": "2020-03-24T11:35:35.633032Z"
    },
    "collapsed": true
   },
   "outputs": [],
   "source": [
    "# preprocess img\n",
    "imgs = wm0_img[:batch_size]\n",
    "imgs = (imgs - clip_min) / (clip_max - clip_min) # re-scale instances to be within range [0, 1]\n",
    "imgs = np.clip(imgs, clip_min, clip_max)\n",
    "imgs = (imgs * 2) - 1 # now convert to [-1, 1]\n",
    "imgs = np.arctanh(imgs * .999999) # convert to tanh-space"
   ]
  },
  {
   "cell_type": "code",
   "execution_count": 35,
   "metadata": {
    "ExecuteTime": {
     "end_time": "2020-03-24T11:36:20.851187Z",
     "start_time": "2020-03-24T11:35:38.460853Z"
    }
   },
   "outputs": [
    {
     "name": "stdout",
     "output_type": "stream",
     "text": [
      "  Binary search step 0 of 1\n",
      "Iteration 0 of 1000 loss=26347.5 ctc_loss=26347.5 l2s=0.000 nps=2.89\n",
      "Iteration 100 of 1000 loss=8.9 ctc_loss=8.9 l2s=14.520 nps=5551.92\n",
      "Iteration 200 of 1000 loss=3.4 ctc_loss=3.4 l2s=14.786 nps=5552.57\n",
      "Iteration 300 of 1000 loss=2.1 ctc_loss=2.1 l2s=14.972 nps=5547.55\n",
      "Iteration 400 of 1000 loss=1.5 ctc_loss=1.5 l2s=15.122 nps=5548.18\n",
      "Iteration 500 of 1000 loss=1.2 ctc_loss=1.2 l2s=15.254 nps=5553.76\n",
      "Iteration 600 of 1000 loss=0.9 ctc_loss=0.9 l2s=15.375 nps=5547.26\n",
      "Iteration 700 of 1000 loss=0.8 ctc_loss=0.8 l2s=15.487 nps=5547.44\n",
      "Iteration 800 of 1000 loss=0.6 ctc_loss=0.6 l2s=15.591 nps=5549.95\n",
      "Iteration 900 of 1000 loss=0.5 ctc_loss=0.5 l2s=15.689 nps=5553.52\n",
      "Successfully generated adversarial examples on 100 of 100 instances.\n",
      "Mean successful distortion: 2.486\n",
      "------------------------------ 0 ------------------------------\n"
     ]
    }
   ],
   "source": [
    "with graph.as_default():\n",
    "    adv_img_list = []\n",
    "    adv_l2_list = []\n",
    "    adv_txt_list = []\n",
    "    for i in range(0, len(imgs), batch_size):  # run attack in batch data\n",
    "        # set the lower and upper bounds accordingly\n",
    "        lower_bound = np.zeros(batch_size)  # (batch_size, )\n",
    "        CONST = np.ones(batch_size) * initial_const  # (batch_size, )\n",
    "        upper_bound = np.ones(batch_size) * 1e10  # (batch_size, )\n",
    "\n",
    "        # placeholders for the best l2, score, and instance attack found so far\n",
    "        o_bestl2 = [1e10] * batch_size  # (batch_size, )\n",
    "        o_bestscore = [-1] * batch_size  # (batch_size, )\n",
    "        o_bestattack = np.zeros(shape)\n",
    "\n",
    "        for outer_step in range(BINARY_SEARCH_STEPS):  # 二分调整 const\n",
    "            # completely reset adam's internal state.\n",
    "            sess.run(init)\n",
    "            batch = imgs[i:i + batch_size]\n",
    "            batch_len_x = len_x[i:i + batch_size]\n",
    "            batch_wm_mask = wm_mask_img[i:i + batch_size]\n",
    "            batch_target_txt = target_txt[i:i + batch_size]\n",
    "            batch_tmp_y = [\n",
    "                np.asarray([c - 1 for c in encode(t)])\n",
    "                for t in batch_target_txt\n",
    "            ]\n",
    "            batch_y = sparse_tuple_from(batch_tmp_y)\n",
    "\n",
    "            bestl2 = [1e10] * batch_size  # (batch_size, )\n",
    "            bestscore = [-1] * batch_size  # (batch_size, )\n",
    "            print(\n",
    "                f\"  Binary search step {outer_step} of {BINARY_SEARCH_STEPS}\")\n",
    "\n",
    "            # set the variables so that we don't have to send them over again\n",
    "            sess.run(\n",
    "                setup, {\n",
    "                    assign_timg: batch,\n",
    "                    assign_input_seq_len: batch_len_x,\n",
    "                    assign_wm_mask: batch_wm_mask,\n",
    "                    assign_const: CONST,\n",
    "                })\n",
    "\n",
    "            for iteration in range(MAX_ITERATIONS):  # 开始迭代攻击\n",
    "                # perform the attack\n",
    "                _, l, scores, l2s, nps, batch_adv_txt, nimg = sess.run(\n",
    "                    [train, loss, loss1, l2dist, loss3, decoded, newimg],\n",
    "                    feed_dict={\n",
    "                        targets: batch_y,\n",
    "                        dropout_rate: 0\n",
    "                    })\n",
    "                batch_adv_index = TensorflowModel._TensorflowModel__sparse_to_lists(batch_adv_txt)\n",
    "                batch_adv_txt = [''.join(decode(index)) for index in batch_adv_index]\n",
    "                # attack done\n",
    "                if iteration % ((MAX_ITERATIONS // 10) or 1) == 0:\n",
    "                    print(f\"Iteration {iteration} of {MAX_ITERATIONS} \"+\n",
    "                          f\"loss={l:.1f} ctc_loss={np.mean(scores):.1f} l2s={np.mean(l2s):.3f}\"+\n",
    "                          f\" nps={nps:.2f}\"\n",
    "                         )\n",
    "                    \n",
    "                \n",
    "                # adjust the best result found so far\n",
    "                for e, (l2, ii) in enumerate(zip(l2s, nimg)):\n",
    "                    target_t, adv_t = batch_target_txt[e], batch_adv_txt[e]\n",
    "                    if l2 < bestl2[e] and target_t == adv_t:\n",
    "                        bestl2[e] = l2\n",
    "                        bestscore[e] = adv_t\n",
    "                    if l2 < o_bestl2[e] and target_t == adv_t:\n",
    "                        o_bestl2[e] = l2\n",
    "                        o_bestscore[e] = adv_t # batch_adv_txt\n",
    "                        o_bestattack[e] = ii\n",
    "                \n",
    "                # check if we should abort search if we're getting nowhere.\n",
    "                if ABORT_EARLY:\n",
    "                    n_success = 0\n",
    "                    for target_t, adv_t in zip(batch_target_txt, bestscore):\n",
    "                        if target_t == adv_t:\n",
    "                            n_success += 1\n",
    "                    if n_success == len(batch_target_txt):\n",
    "                        print(f\"iteration[{iteration}] break, all attacks succeed!\")\n",
    "                        break\n",
    "                        \n",
    "            # adjust the constant as needed\n",
    "            for e in range(batch_size):  # 二分调整 const\n",
    "                if bestscore[e] == batch_target_txt[e]:  # and bestscore[e] != -1:\n",
    "                    # success, divide const by two\n",
    "                    upper_bound[e] = min(upper_bound[e], CONST[e])\n",
    "                    if upper_bound[e] < 1e9:\n",
    "                        CONST[e] = (lower_bound[e] + upper_bound[e]) / 2\n",
    "                else:\n",
    "                    # failure, either multiply by 10 if no solution found yet\n",
    "                    # or do binary search with the known upper bound\n",
    "                    lower_bound[e] = max(lower_bound[e], CONST[e])\n",
    "                    if upper_bound[e] < 1e9:\n",
    "                        CONST[e] = (lower_bound[e] + upper_bound[e]) / 2\n",
    "                    else:\n",
    "                        CONST[e] *= 10\n",
    "\n",
    "            print(\n",
    "                f\"Successfully generated adversarial examples on {sum(upper_bound < 1e9)} of {batch_size} instances.\"\n",
    "            )\n",
    "            o_bestl2 = np.array(o_bestl2)\n",
    "            mean = np.mean(np.sqrt(o_bestl2[o_bestl2 < 1e9]))\n",
    "            print(f\"Mean successful distortion: {mean:.4g}\")\n",
    "\n",
    "        # return the best solution found\n",
    "        o_bestl2 = np.array(o_bestl2)\n",
    "        adv_l2_list.append(o_bestl2)\n",
    "        adv_txt_list += o_bestscore\n",
    "        adv_img_list.append(o_bestattack) # 把 batch adv img 加到 list 中\n",
    "        print('-' * 30, i, '-' * 30)\n",
    "adv_img = np.asarray(adv_img_list).reshape(imgs.shape)\n",
    "adv_l2 = np.asarray(adv_l2_list).reshape(-1)"
   ]
  },
  {
   "cell_type": "code",
   "execution_count": 36,
   "metadata": {
    "ExecuteTime": {
     "end_time": "2020-03-24T11:36:22.955613Z",
     "start_time": "2020-03-24T11:36:22.941825Z"
    }
   },
   "outputs": [
    {
     "name": "stdout",
     "output_type": "stream",
     "text": [
      "status status\n"
     ]
    },
    {
     "data": {
      "image/png": "[encoded data removed]",
      "text/plain": [
       "<PIL.Image.Image image mode=L size=193x48 at 0x7F4A1C11B710>"
      ]
     },
     "execution_count": 36,
     "metadata": {},
     "output_type": "execute_result"
    }
   ],
   "source": [
    "idx = 5\n",
    "print(adv_txt_list[idx],target_txt[idx])\n",
    "show(adv_img[idx]) # optimized img"
   ]
  },
  {
   "cell_type": "markdown",
   "metadata": {},
   "source": [
    "# post-process"
   ]
  },
  {
   "cell_type": "markdown",
   "metadata": {},
   "source": [
    "## saliency map"
   ]
  },
  {
   "cell_type": "code",
   "execution_count": null,
   "metadata": {
    "collapsed": true
   },
   "outputs": [],
   "source": [
    "adv_img[]"
   ]
  },
  {
   "cell_type": "code",
   "execution_count": 66,
   "metadata": {
    "ExecuteTime": {
     "end_time": "2020-03-24T11:51:42.814880Z",
     "start_time": "2020-03-24T11:51:42.806674Z"
    }
   },
   "outputs": [
    {
     "data": {
      "text/plain": [
       "-0.7419102145176307"
      ]
     },
     "execution_count": 66,
     "metadata": {},
     "output_type": "execute_result"
    }
   ],
   "source": [
    "(imga - imgb).min()"
   ]
  },
  {
   "cell_type": "code",
   "execution_count": 72,
   "metadata": {
    "ExecuteTime": {
     "end_time": "2020-03-24T11:52:22.457208Z",
     "start_time": "2020-03-24T11:52:22.332331Z"
    }
   },
   "outputs": [
    {
     "data": {
      "text/plain": [
       "<matplotlib.image.AxesImage at 0x7f497c2a6ac8>"
      ]
     },
     "execution_count": 72,
     "metadata": {},
     "output_type": "execute_result"
    },
    {
     "data": {
      "image/png": "[encoded data removed]",
      "text/plain": [
       "<Figure size 432x288 with 1 Axes>"
      ]
     },
     "metadata": {},
     "output_type": "display_data"
    }
   ],
   "source": [
    "import numpy as np\n",
    "import matplotlib.pyplot as plt\n",
    "import matplotlib.cm as cm\n",
    "idx = 66\n",
    "imga = adv_img[idx]\n",
    "imgb = input_img[idx]\n",
    "# imgb = wm0_img[idx]\n",
    "\n",
    "# x = (imga - imgb).T\n",
    "# x = (imga - imgb).T * ((imga - imgb) > 0).T\n",
    "x = (imga - imgb).T * ((imga - imgb) < 0).T\n",
    "\n",
    "plt.axis('off')\n",
    "plt.xticks([])\n",
    "plt.yticks([])\n",
    "plt.imshow(\n",
    "    x,\n",
    "    cmap='RdBu_r',\n",
    "    interpolation='bilinear',\n",
    "    vmin=-0.2,\n",
    "    vmax=0.2,\n",
    ")"
   ]
  },
  {
   "cell_type": "markdown",
   "metadata": {},
   "source": [
    "## generate full image"
   ]
  },
  {
   "cell_type": "code",
   "execution_count": null,
   "metadata": {
    "ExecuteTime": {
     "end_time": "2020-03-24T09:58:58.921520Z",
     "start_time": "2020-03-24T09:58:58.881419Z"
    },
    "collapsed": true
   },
   "outputs": [],
   "source": [
    "nb_line = 16\n",
    "full_adv_img = np.zeros((48*nb_line, adv_img[0].shape[0]))\n",
    "for i in range(nb_line):\n",
    "    full_adv_img[i*48:(i+1)*48] = 1 - adv_img[i+61].T\n",
    "cvt2Image(full_adv_img).save('opt-real-images/full-4.jpg', quality=100)"
   ]
  },
  {
   "cell_type": "code",
   "execution_count": null,
   "metadata": {
    "ExecuteTime": {
     "end_time": "2020-03-20T09:41:27.592382Z",
     "start_time": "2020-03-20T09:41:27.446984Z"
    },
    "collapsed": true
   },
   "outputs": [],
   "source": [
    "for idx in range(10):\n",
    "    show(adv_img[idx]).save(f'opt-real-images/{target_txt[idx]}.jpg', quality=100)"
   ]
  },
  {
   "cell_type": "markdown",
   "metadata": {
    "heading_collapsed": true
   },
   "source": [
    "# weaken & strengthen"
   ]
  },
  {
   "cell_type": "markdown",
   "metadata": {
    "hidden": true
   },
   "source": [
    "## weaken data\n",
    "basic mim attack: replace-full-word"
   ]
  },
  {
   "cell_type": "code",
   "execution_count": null,
   "metadata": {
    "ExecuteTime": {
     "end_time": "2020-02-25T16:53:42.272279Z",
     "start_time": "2020-02-25T16:53:41.865087Z"
    },
    "collapsed": true,
    "hidden": true
   },
   "outputs": [],
   "source": [
    "img_data_path = '/home/chenlu/research/TextRecognitionDataGenerator/word_image_data'\n",
    "with open(f'{img_data_path}/Arial-replace-full-word.pkl', 'rb') as f:\n",
    "    img_list, input_img, len_x, gt_txt, target_txt = pickle.load(f)\n",
    "with open(f'attack_result/Arial-replace-full-word-l2-eps0.2-ieps5.0-iter2000.pkl', 'rb') as f:\n",
    "    adv_img, record_adv_text, record_iter, (duration, total_iter) = pickle.load(f)"
   ]
  },
  {
   "cell_type": "code",
   "execution_count": null,
   "metadata": {
    "ExecuteTime": {
     "end_time": "2020-02-25T17:07:19.260579Z",
     "start_time": "2020-02-25T17:07:19.253491Z"
    },
    "collapsed": true,
    "hidden": true
   },
   "outputs": [],
   "source": [
    "input_img = adv_img\n",
    "target_txt = gt_txt\n",
    "\n",
    "nb_sample = 100\n",
    "len_x, target_txt = len_x[:nb_sample], target_txt[:nb_sample]\n",
    "input_img = input_img[:nb_sample]"
   ]
  },
  {
   "cell_type": "code",
   "execution_count": null,
   "metadata": {
    "ExecuteTime": {
     "end_time": "2020-02-25T17:07:20.794615Z",
     "start_time": "2020-02-25T17:07:20.781244Z"
    },
    "collapsed": true,
    "hidden": true
   },
   "outputs": [],
   "source": [
    "idx = 6\n",
    "print(record_adv_text[idx])\n",
    "show(adv_img[idx])"
   ]
  },
  {
   "cell_type": "markdown",
   "metadata": {
    "hidden": true
   },
   "source": [
    "basic opt attack: replace-full-word"
   ]
  },
  {
   "cell_type": "code",
   "execution_count": null,
   "metadata": {
    "ExecuteTime": {
     "end_time": "2020-02-26T03:32:17.888933Z",
     "start_time": "2020-02-26T03:32:17.770829Z"
    },
    "collapsed": true,
    "hidden": true
   },
   "outputs": [],
   "source": [
    "font_name = 'Arial'\n",
    "case = 'replace-full-word'\n",
    "with open(f'basic_opt_result/{font_name}-{case}.pkl', 'rb') as f:\n",
    "    (input_img, adv_txt_list, adv_l2, adv_iter_list, adv_asr_list, duration) = pickle.load(f)"
   ]
  },
  {
   "cell_type": "code",
   "execution_count": null,
   "metadata": {
    "ExecuteTime": {
     "end_time": "2020-02-26T03:32:58.245816Z",
     "start_time": "2020-02-26T03:32:58.001021Z"
    },
    "collapsed": true,
    "hidden": true
   },
   "outputs": [],
   "source": [
    "with open(f'{img_data_path}/{font_name}-{case}.pkl', 'rb') as f:\n",
    "    _, _, len_x, gt_txt, target_txt = pickle.load(f)"
   ]
  },
  {
   "cell_type": "code",
   "execution_count": null,
   "metadata": {
    "ExecuteTime": {
     "end_time": "2020-02-26T03:35:02.689975Z",
     "start_time": "2020-02-26T03:35:02.681991Z"
    },
    "collapsed": true,
    "hidden": true
   },
   "outputs": [],
   "source": [
    "input_img, len_x, target_txt = input_img[:batch_size], len_x[:batch_size], gt_txt[:batch_size]"
   ]
  },
  {
   "cell_type": "markdown",
   "metadata": {
    "hidden": true
   },
   "source": [
    "## strengthen attack"
   ]
  },
  {
   "cell_type": "markdown",
   "metadata": {
    "hidden": true
   },
   "source": [
    "### gradient attack"
   ]
  },
  {
   "cell_type": "code",
   "execution_count": null,
   "metadata": {
    "ExecuteTime": {
     "end_time": "2020-02-25T17:02:37.599172Z",
     "start_time": "2020-02-25T17:02:37.107281Z"
    },
    "collapsed": true,
    "hidden": true
   },
   "outputs": [],
   "source": [
    "# build graph\n",
    "with graph.as_default():\n",
    "    inputs, input_seq_len, targets, dropout_rate, _, _ = network.create_placeholders()\n",
    "    output_seq_len, time_major_logits, time_major_softmax, logits, softmax, decoded, sparse_decoded, scale_factor, log_prob = \\\n",
    "                        network.create_network(inputs, input_seq_len, dropout_rate, reuse_variables=tf.AUTO_REUSE)\n",
    "    loss = tf.nn.ctc_loss(labels=targets,\n",
    "                          inputs=time_major_logits,\n",
    "                          sequence_length=output_seq_len,\n",
    "                          time_major=True,\n",
    "                          ctc_merge_repeated=True,\n",
    "                          ignore_longer_outputs_than_inputs=True)\n",
    "    loss = -tf.reduce_mean(loss, name='loss')\n",
    "    grad, = tf.gradients(loss, inputs)\n",
    "\n",
    "    # Normalize current gradient and add it to the accumulated gradient\n",
    "    red_ind = list(range(1, len(grad.get_shape())))\n",
    "    avoid_zero_div = tf.cast(1e-12, grad.dtype)\n",
    "    divisor = tf.reduce_mean(tf.abs(grad), red_ind, keepdims=True)\n",
    "    norm_grad = grad / tf.maximum(avoid_zero_div, divisor)\n",
    "\n",
    "    m = tf.placeholder(tf.float32,\n",
    "                       shape=inputs.get_shape().as_list(),\n",
    "                       name=\"momentum\")\n",
    "    acc_m = m + norm_grad\n",
    "\n",
    "    grad = acc_m\n",
    "    # ord=np.inf\n",
    "    optimal_perturbation = tf.sign(grad)\n",
    "    optimal_perturbation = tf.stop_gradient(optimal_perturbation)\n",
    "    scaled_perturbation_inf = utils_tf.mul(0.01, optimal_perturbation)\n",
    "    # ord=2\n",
    "    square = tf.maximum(1e-12, tf.reduce_sum(tf.square(grad), axis=red_ind, keepdims=True))\n",
    "    optimal_perturbation = grad / tf.sqrt(square)\n",
    "    scaled_perturbation_2 = utils_tf.mul(0.01, optimal_perturbation)"
   ]
  },
  {
   "cell_type": "code",
   "execution_count": null,
   "metadata": {
    "ExecuteTime": {
     "end_time": "2020-02-25T17:08:03.660538Z",
     "start_time": "2020-02-25T17:07:37.565371Z"
    },
    "collapsed": true,
    "hidden": true,
    "scrolled": true
   },
   "outputs": [],
   "source": [
    "# run attack\n",
    "batch_size = 100\n",
    "clip_min, clip_max = 0.0, 1.0\n",
    "target_index_list = [np.asarray([c for c in encode(t)]) for t in target_txt]\n",
    "with graph.as_default():\n",
    "    adv_img = input_img.copy()\n",
    "    m0 = np.zeros(input_img.shape)\n",
    "    record_iter = np.zeros(input_img.shape[0])  # 0代表没成功\n",
    "\n",
    "    start = time.time()\n",
    "    for i in tqdm(range(nb_iter)):\n",
    "        # perform attack\n",
    "        batch_iter = len(input_img) // batch_size\n",
    "        batch_iter = batch_iter if len(input_img) % batch_size == 0 else batch_iter + 1\n",
    "        for batch_i in range(batch_iter):\n",
    "            batch_input_img = input_img[batch_size * batch_i:batch_size * (batch_i + 1)]\n",
    "            batch_adv_img = adv_img[batch_size * batch_i:batch_size * (batch_i + 1)]\n",
    "            batch_len_x = len_x[batch_size * batch_i:batch_size * (batch_i + 1)]\n",
    "            batch_m0 = m0[batch_size * batch_i:batch_size * (batch_i + 1)]\n",
    "            batch_target_txt = target_txt[batch_size * batch_i:batch_size * (batch_i + 1)]\n",
    "            batch_tmp_y = [np.asarray([c - 1 for c in encode(t)]) for t in batch_target_txt]\n",
    "            batch_y = sparse_tuple_from(batch_tmp_y)\n",
    "            batch_record_iter = record_iter[batch_size * batch_i:batch_size * (batch_i + 1)]\n",
    "\n",
    "            scaled_perturbation = scaled_perturbation_2 if pert_type == '2' else scaled_perturbation_inf\n",
    "            batch_pert, batch_loss = sess.run([scaled_perturbation, loss], # pert type\n",
    "                                  feed_dict={\n",
    "                                      inputs: batch_adv_img,\n",
    "                                      input_seq_len: batch_len_x,\n",
    "                                      m: batch_m0,\n",
    "                                      targets: batch_y,\n",
    "                                      dropout_rate: 0,\n",
    "                                  })\n",
    "            batch_pert[batch_record_iter != 0] = 0\n",
    "            batch_adv_img = batch_adv_img + eps_iter * batch_pert\n",
    "            batch_adv_img = batch_input_img + np.clip(batch_adv_img - batch_input_img, -eps, eps)\n",
    "            batch_adv_img = np.clip(batch_adv_img, clip_min, clip_max)\n",
    "            adv_img[batch_size * batch_i:batch_size * (batch_i + 1)] = batch_adv_img\n",
    "\n",
    "        # check whether attack success\n",
    "        record_adv_text = []\n",
    "        for batch_i in range(batch_iter):\n",
    "            batch_adv_img = adv_img[batch_size * batch_i:batch_size * (batch_i + 1)]\n",
    "            batch_len_x = len_x[batch_size * batch_i:batch_size * (batch_i + 1)]\n",
    "            batch_target_index = target_index_list[batch_size * batch_i:batch_size * (batch_i + 1)]\n",
    "            batch_adv_text = sess.run(decoded,\n",
    "                                      feed_dict={\n",
    "                                          inputs: batch_adv_img,\n",
    "                                          input_seq_len: batch_len_x,\n",
    "                                          dropout_rate: 0,\n",
    "                                      })\n",
    "            batch_adv_index = TensorflowModel._TensorflowModel__sparse_to_lists(batch_adv_text)\n",
    "            record_adv_text += [''.join(decode(index)) for index in batch_adv_index]\n",
    "            for j in range(len(batch_target_index)):\n",
    "                # attack img idx_j successfully at iter i\n",
    "                idx_j = batch_size * batch_i + j\n",
    "                adv_index, target_index = batch_adv_index[j], batch_target_index[j]\n",
    "                if np.sum(adv_index != target_index) == 0 and record_iter[idx_j] == 0:\n",
    "                    record_iter[idx_j] = i\n",
    "        # check whether all examples are successful\n",
    "        if np.sum(record_iter == 0) == 0:\n",
    "            print(f\"{i} break.\")\n",
    "            break"
   ]
  }
 ],
 "metadata": {
  "kernelspec": {
   "display_name": "Python [conda env:ocr1]",
   "language": "python",
   "name": "conda-env-ocr1-py"
  },
  "language_info": {
   "codemirror_mode": {
    "name": "ipython",
    "version": 3
   },
   "file_extension": ".py",
   "mimetype": "text/x-python",
   "name": "python",
   "nbconvert_exporter": "python",
   "pygments_lexer": "ipython3",
   "version": "3.6.2"
  },
  "toc": {
   "base_numbering": 1,
   "nav_menu": {
    "height": "422px",
    "width": "249px"
   },
   "number_sections": true,
   "sideBar": true,
   "skip_h1_title": false,
   "title_cell": "Table of Contents",
   "title_sidebar": "Contents",
   "toc_cell": false,
   "toc_position": {
    "height": "calc(100% - 180px)",
    "left": "10px",
    "top": "150px",
    "width": "236px"
   },
   "toc_section_display": true,
   "toc_window_display": true
  },
  "varInspector": {
   "cols": {
    "lenName": 16,
    "lenType": 16,
    "lenVar": 40
   },
   "kernels_config": {
    "python": {
     "delete_cmd_postfix": "",
     "delete_cmd_prefix": "del ",
     "library": "var_list.py",
     "varRefreshCmd": "print(var_dic_list())"
    },
    "r": {
     "delete_cmd_postfix": ") ",
     "delete_cmd_prefix": "rm(",
     "library": "var_list.r",
     "varRefreshCmd": "cat(var_dic_list()) "
    }
   },
   "types_to_exclude": [
    "module",
    "function",
    "builtin_function_or_method",
    "instance",
    "_Feature"
   ],
   "window_display": false
  }
 },
 "nbformat": 4,
 "nbformat_minor": 2
}
